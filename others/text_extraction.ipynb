{
 "cells": [
  {
   "cell_type": "markdown",
   "metadata": {},
   "source": [
    "Text extraction"
   ]
  },
  {
   "cell_type": "markdown",
   "metadata": {},
   "source": [
    "## Dirichlet "
   ]
  },
  {
   "cell_type": "code",
   "execution_count": 1,
   "metadata": {},
   "outputs": [],
   "source": [
    "# Import necessary libraries\n",
    "from gensim import corpora\n",
    "from gensim.models import LdaModel\n",
    "from pprint import pprint\n",
    "import pandas as pd\n",
    "from nltk.corpus import stopwords"
   ]
  },
  {
   "cell_type": "code",
   "execution_count": 2,
   "metadata": {},
   "outputs": [
    {
     "name": "stderr",
     "output_type": "stream",
     "text": [
      "[nltk_data] Downloading package stopwords to\n",
      "[nltk_data]     C:\\Users\\annab\\AppData\\Roaming\\nltk_data...\n",
      "[nltk_data]   Package stopwords is already up-to-date!\n"
     ]
    },
    {
     "data": {
      "text/plain": [
       "True"
      ]
     },
     "execution_count": 2,
     "metadata": {},
     "output_type": "execute_result"
    }
   ],
   "source": [
    "import nltk\n",
    "nltk.download('stopwords')"
   ]
  },
  {
   "cell_type": "code",
   "execution_count": 3,
   "metadata": {},
   "outputs": [],
   "source": [
    "# Sample documents\n",
    "path_plot = 'data/plot_summaries.txt'\n",
    "plot_summary_df = pd.read_csv(path_plot, delimiter='\\t', header=None)\n",
    "plot_summary_df.columns = ['movie_id', 'plot_summary']"
   ]
  },
  {
   "cell_type": "code",
   "execution_count": 4,
   "metadata": {},
   "outputs": [
    {
     "data": {
      "text/html": [
       "<div>\n",
       "<style scoped>\n",
       "    .dataframe tbody tr th:only-of-type {\n",
       "        vertical-align: middle;\n",
       "    }\n",
       "\n",
       "    .dataframe tbody tr th {\n",
       "        vertical-align: top;\n",
       "    }\n",
       "\n",
       "    .dataframe thead th {\n",
       "        text-align: right;\n",
       "    }\n",
       "</style>\n",
       "<table border=\"1\" class=\"dataframe\">\n",
       "  <thead>\n",
       "    <tr style=\"text-align: right;\">\n",
       "      <th></th>\n",
       "      <th>movie_id</th>\n",
       "      <th>plot_summary</th>\n",
       "    </tr>\n",
       "  </thead>\n",
       "  <tbody>\n",
       "    <tr>\n",
       "      <th>0</th>\n",
       "      <td>23890098</td>\n",
       "      <td>Shlykov, a hard-working taxi driver and Lyosha...</td>\n",
       "    </tr>\n",
       "    <tr>\n",
       "      <th>1</th>\n",
       "      <td>31186339</td>\n",
       "      <td>The nation of Panem consists of a wealthy Capi...</td>\n",
       "    </tr>\n",
       "    <tr>\n",
       "      <th>2</th>\n",
       "      <td>20663735</td>\n",
       "      <td>Poovalli Induchoodan  is sentenced for six yea...</td>\n",
       "    </tr>\n",
       "    <tr>\n",
       "      <th>3</th>\n",
       "      <td>2231378</td>\n",
       "      <td>The Lemon Drop Kid , a New York City swindler,...</td>\n",
       "    </tr>\n",
       "    <tr>\n",
       "      <th>4</th>\n",
       "      <td>595909</td>\n",
       "      <td>Seventh-day Adventist Church pastor Michael Ch...</td>\n",
       "    </tr>\n",
       "    <tr>\n",
       "      <th>...</th>\n",
       "      <td>...</td>\n",
       "      <td>...</td>\n",
       "    </tr>\n",
       "    <tr>\n",
       "      <th>42298</th>\n",
       "      <td>34808485</td>\n",
       "      <td>The story is about Reema , a young Muslim scho...</td>\n",
       "    </tr>\n",
       "    <tr>\n",
       "      <th>42299</th>\n",
       "      <td>1096473</td>\n",
       "      <td>In 1928 Hollywood, director Leo Andreyev  look...</td>\n",
       "    </tr>\n",
       "    <tr>\n",
       "      <th>42300</th>\n",
       "      <td>35102018</td>\n",
       "      <td>American Luthier focuses on Randy Parsons’ tra...</td>\n",
       "    </tr>\n",
       "    <tr>\n",
       "      <th>42301</th>\n",
       "      <td>8628195</td>\n",
       "      <td>Abdur Rehman Khan , a middle-aged dry fruit se...</td>\n",
       "    </tr>\n",
       "    <tr>\n",
       "      <th>42302</th>\n",
       "      <td>6040782</td>\n",
       "      <td>1940 - Operation Dynamo has just taken place. ...</td>\n",
       "    </tr>\n",
       "  </tbody>\n",
       "</table>\n",
       "<p>42303 rows × 2 columns</p>\n",
       "</div>"
      ],
      "text/plain": [
       "       movie_id                                       plot_summary\n",
       "0      23890098  Shlykov, a hard-working taxi driver and Lyosha...\n",
       "1      31186339  The nation of Panem consists of a wealthy Capi...\n",
       "2      20663735  Poovalli Induchoodan  is sentenced for six yea...\n",
       "3       2231378  The Lemon Drop Kid , a New York City swindler,...\n",
       "4        595909  Seventh-day Adventist Church pastor Michael Ch...\n",
       "...         ...                                                ...\n",
       "42298  34808485  The story is about Reema , a young Muslim scho...\n",
       "42299   1096473  In 1928 Hollywood, director Leo Andreyev  look...\n",
       "42300  35102018  American Luthier focuses on Randy Parsons’ tra...\n",
       "42301   8628195  Abdur Rehman Khan , a middle-aged dry fruit se...\n",
       "42302   6040782  1940 - Operation Dynamo has just taken place. ...\n",
       "\n",
       "[42303 rows x 2 columns]"
      ]
     },
     "execution_count": 4,
     "metadata": {},
     "output_type": "execute_result"
    }
   ],
   "source": [
    "plot_summary_df"
   ]
  },
  {
   "cell_type": "code",
   "execution_count": 5,
   "metadata": {},
   "outputs": [],
   "source": [
    "stop_words = set(stopwords.words('english'))"
   ]
  },
  {
   "cell_type": "code",
   "execution_count": 6,
   "metadata": {},
   "outputs": [],
   "source": [
    "summary = [plot_summary_df.iloc[0,1]]"
   ]
  },
  {
   "cell_type": "code",
   "execution_count": 7,
   "metadata": {},
   "outputs": [
    {
     "data": {
      "text/plain": [
       "[\"Shlykov, a hard-working taxi driver and Lyosha, a saxophonist, develop a bizarre love-hate relationship, and despite their prejudices, realize they aren't so different after all.\"]"
      ]
     },
     "execution_count": 7,
     "metadata": {},
     "output_type": "execute_result"
    }
   ],
   "source": [
    "summary"
   ]
  },
  {
   "cell_type": "code",
   "execution_count": 8,
   "metadata": {},
   "outputs": [],
   "source": [
    "# Tokenize the documents\n",
    "tokenized_docs = [[word for word in doc.lower().split() if word not in stop_words] for doc in summary]\n"
   ]
  },
  {
   "cell_type": "code",
   "execution_count": 9,
   "metadata": {},
   "outputs": [
    {
     "data": {
      "text/plain": [
       "[['shlykov,',\n",
       "  'hard-working',\n",
       "  'taxi',\n",
       "  'driver',\n",
       "  'lyosha,',\n",
       "  'saxophonist,',\n",
       "  'develop',\n",
       "  'bizarre',\n",
       "  'love-hate',\n",
       "  'relationship,',\n",
       "  'despite',\n",
       "  'prejudices,',\n",
       "  'realize',\n",
       "  'different',\n",
       "  'all.']]"
      ]
     },
     "execution_count": 9,
     "metadata": {},
     "output_type": "execute_result"
    }
   ],
   "source": [
    "tokenized_docs"
   ]
  },
  {
   "cell_type": "code",
   "execution_count": 10,
   "metadata": {},
   "outputs": [],
   "source": [
    "# Create a dictionary mapping each word to a unique id\n",
    "dictionary = corpora.Dictionary(tokenized_docs)\n"
   ]
  },
  {
   "cell_type": "code",
   "execution_count": 11,
   "metadata": {},
   "outputs": [],
   "source": [
    "# Convert tokenized documents into bag-of-words representation\n",
    "corpus = [dictionary.doc2bow(doc) for doc in tokenized_docs]\n"
   ]
  },
  {
   "cell_type": "code",
   "execution_count": 12,
   "metadata": {},
   "outputs": [],
   "source": [
    "# Train the LDA model\n",
    "lda_model = LdaModel(corpus, num_topics=2, id2word=dictionary, alpha = 'auto')\n"
   ]
  },
  {
   "cell_type": "code",
   "execution_count": 13,
   "metadata": {},
   "outputs": [
    {
     "name": "stdout",
     "output_type": "stream",
     "text": [
      "[(0,\n",
      "  '0.075*\"lyosha,\" + 0.074*\"driver\" + 0.071*\"shlykov,\" + 0.068*\"prejudices,\" + '\n",
      "  '0.068*\"despite\" + 0.067*\"all.\" + 0.067*\"taxi\" + 0.067*\"bizarre\" + '\n",
      "  '0.066*\"love-hate\" + 0.066*\"develop\"'),\n",
      " (1,\n",
      "  '0.074*\"realize\" + 0.072*\"different\" + 0.068*\"relationship,\" + '\n",
      "  '0.068*\"hard-working\" + 0.068*\"saxophonist,\" + 0.067*\"develop\" + '\n",
      "  '0.067*\"love-hate\" + 0.067*\"bizarre\" + 0.066*\"taxi\" + 0.066*\"all.\"')]\n"
     ]
    }
   ],
   "source": [
    "# Print the topics\n",
    "pprint(lda_model.print_topics())"
   ]
  },
  {
   "cell_type": "code",
   "execution_count": 14,
   "metadata": {},
   "outputs": [],
   "source": [
    "from nltk.stem import WordNetLemmatizer"
   ]
  },
  {
   "cell_type": "code",
   "execution_count": 15,
   "metadata": {},
   "outputs": [
    {
     "name": "stdout",
     "output_type": "stream",
     "text": [
      "[(0,\n",
      "  '0.055*\"learning\" + 0.036*\"and\" + 0.034*\"machine\" + 0.031*\"exciting\" + '\n",
      "  '0.030*\"field\" + 0.030*\"endless\" + 0.030*\"with\" + 0.030*\"image\" + 0.030*\"is\" '\n",
      "  '+ 0.030*\"speech\"'),\n",
      " (1,\n",
      "  '0.050*\"data\" + 0.036*\"learning\" + 0.035*\"machine\" + 0.034*\"language\" + '\n",
      "  '0.033*\"natural\" + 0.033*\"computers\" + 0.033*\"human\" + 0.033*\"and\" + '\n",
      "  '0.033*\"helps\" + 0.032*\"language.\"')]\n"
     ]
    }
   ],
   "source": [
    "# Sample documents\n",
    "documents = [\n",
    "    \"Machine learning is an exciting field with endless possibilities.\",\n",
    "    \"Natural language processing helps computers understand human language.\",\n",
    "    \"Deep learning algorithms are used in various applications such as image recognition and speech synthesis.\",\n",
    "    \"Data science involves extracting insights from data through statistical analysis and machine learning techniques.\"\n",
    "]\n",
    "# Tokenize the documents\n",
    "tokenized_docs = [doc.lower().split() for doc in documents]\n",
    "#print(tokenized_docs)\n",
    "# Create a dictionary mapping each word to a unique id\n",
    "dictionary = corpora.Dictionary(tokenized_docs)\n",
    "# Convert tokenized documents into bag-of-words representation\n",
    "corpus = [dictionary.doc2bow(doc) for doc in tokenized_docs]\n",
    "# Train the LDA model\n",
    "lda_model = LdaModel(corpus, num_topics=2, id2word=dictionary)\n",
    "# Print the topics\n",
    "pprint(lda_model.print_topics())"
   ]
  },
  {
   "cell_type": "code",
   "execution_count": 16,
   "metadata": {},
   "outputs": [
    {
     "data": {
      "text/plain": [
       "list"
      ]
     },
     "execution_count": 16,
     "metadata": {},
     "output_type": "execute_result"
    }
   ],
   "source": [
    "type(documents)"
   ]
  },
  {
   "cell_type": "markdown",
   "metadata": {},
   "source": [
    "## LLM"
   ]
  },
  {
   "cell_type": "code",
   "execution_count": 17,
   "metadata": {},
   "outputs": [],
   "source": [
    "from pypdf import PdfReader\n",
    "from gensim.utils import simple_preprocess\n",
    "from langchain.chains import LLMChain\n",
    "from langchain.prompts import ChatPromptTemplate\n",
    "from langchain.llms import OpenAI"
   ]
  },
  {
   "cell_type": "code",
   "execution_count": 18,
   "metadata": {},
   "outputs": [],
   "source": [
    "def preprocess(text, stop_words):\n",
    "    \"\"\"\n",
    "    Tokenizes and preprocesses the input text, removing stopwords and short \n",
    "    tokens.\n",
    "\n",
    "    Parameters:\n",
    "        text (str): The input text to preprocess.\n",
    "        stop_words (set): A set of stopwords to be removed from the text.\n",
    "    Returns:\n",
    "        list: A list of preprocessed tokens.\n",
    "    \"\"\"\n",
    "    result = []\n",
    "    for token in simple_preprocess(text, deacc=True):\n",
    "        if token not in stop_words and len(token) > 3:\n",
    "            result.append(token)\n",
    "    return result"
   ]
  },
  {
   "cell_type": "code",
   "execution_count": 19,
   "metadata": {},
   "outputs": [],
   "source": [
    "def get_topic_lists_from_pdf(summary, num_topics, words_per_topic):\n",
    "    \"\"\"\n",
    "    Extracts topics and their associated words from a PDF document using the \n",
    "    Latent Dirichlet Allocation (LDA) algorithm.\n",
    "\n",
    "    Parameters:\n",
    "        file (str): The path to the PDF file for topic extraction.\n",
    "        num_topics (int): The number of topics to discover.\n",
    "        words_per_topic (int): The number of words to include per topic.\n",
    "\n",
    "    Returns:\n",
    "        list: A list of num_topics sublists, each containing relevant words \n",
    "        for a topic.\n",
    "    \"\"\"\n",
    "    # Load the pdf file\n",
    "    #loader = PdfReader(file)\n",
    "\n",
    "    # Extract the text from each page into a list. Each page is considered a document\n",
    "    documents= summary\n",
    "    # for page in loader.pages:\n",
    "    #     documents.append(page.extract_text())\n",
    "\n",
    "    # Preprocess the documents\n",
    "    nltk.download('stopwords')\n",
    "    stop_words = set(stopwords.words(['english','spanish']))\n",
    "    processed_documents = [preprocess(doc, stop_words) for doc in documents]\n",
    "\n",
    "    # Create a dictionary and a corpus\n",
    "    dictionary = corpora.Dictionary(processed_documents)\n",
    "    corpus = [dictionary.doc2bow(doc) for doc in processed_documents]\n",
    "\n",
    "    # Build the LDA model\n",
    "    lda_model = LdaModel(\n",
    "        corpus, \n",
    "        num_topics=num_topics, \n",
    "        id2word=dictionary, \n",
    "        passes=15\n",
    "        )\n",
    "\n",
    "    # Retrieve the topics and their corresponding words\n",
    "    topics = lda_model.print_topics(num_words=words_per_topic)\n",
    "\n",
    "    # Store each list of words from each topic into a list\n",
    "    topics_ls = []\n",
    "    for topic in topics:\n",
    "        words = topic[1].split(\"+\")\n",
    "        topic_words = [word.split(\"*\")[1].replace('\"', '').strip() for word in words]\n",
    "        topics_ls.append(topic_words)\n",
    "\n",
    "    return topics_ls"
   ]
  },
  {
   "cell_type": "code",
   "execution_count": 20,
   "metadata": {},
   "outputs": [],
   "source": [
    "def topics_from_pdf(llm, file, num_topics, words_per_topic):\n",
    "    \"\"\"\n",
    "    Generates descriptive prompts for LLM based on topic words extracted from a \n",
    "    PDF document.\n",
    "\n",
    "    This function takes the output of `get_topic_lists_from_pdf` function, \n",
    "    which consists of a list of topic-related words for each topic, and \n",
    "    generates an output string in table of content format.\n",
    "\n",
    "    Parameters:\n",
    "        llm (LLM): An instance of the Large Language Model (LLM) for generating \n",
    "        responses.\n",
    "        file (str): The path to the PDF file for extracting topic-related words.\n",
    "        num_topics (int): The number of topics to consider.\n",
    "        words_per_topic (int): The number of words per topic to include.\n",
    "\n",
    "    Returns:\n",
    "        str: A response generated by the language model based on the provided \n",
    "        topic words.\n",
    "    \"\"\"\n",
    "\n",
    "    # Extract topics and convert to string\n",
    "    list_of_topicwords = get_topic_lists_from_pdf(file, num_topics, \n",
    "                                                  words_per_topic)\n",
    "    string_lda = \"\"\n",
    "    for list in list_of_topicwords:\n",
    "        string_lda += str(list) + \"\\n\"\n",
    "\n",
    "    # Create the template\n",
    "    template_string = '''Describe the topic of each of the {num_topics} \n",
    "        double-quote delimited lists in a simple sentence and also write down \n",
    "        three possible different subthemes. The lists are the result of an \n",
    "        algorithm for topic discovery.\n",
    "        Do not provide an introduction or a conclusion, only describe the \n",
    "        topics. Do not mention the word \"topic\" when describing the topics.\n",
    "        Use the following template for the response.\n",
    "\n",
    "        1: <<<(sentence describing the topic)>>>\n",
    "        - <<<(Phrase describing the first subtheme)>>>\n",
    "        - <<<(Phrase describing the second subtheme)>>>\n",
    "        - <<<(Phrase describing the third subtheme)>>>\n",
    "\n",
    "        2: <<<(sentence describing the topic)>>>\n",
    "        - <<<(Phrase describing the first subtheme)>>>\n",
    "        - <<<(Phrase describing the second subtheme)>>>\n",
    "        - <<<(Phrase describing the third subtheme)>>>\n",
    "\n",
    "        ...\n",
    "\n",
    "        n: <<<(sentence describing the topic)>>>\n",
    "        - <<<(Phrase describing the first subtheme)>>>\n",
    "        - <<<(Phrase describing the second subtheme)>>>\n",
    "        - <<<(Phrase describing the third subtheme)>>>\n",
    "\n",
    "        Lists: \"\"\"{string_lda}\"\"\" '''\n",
    "\n",
    "    # LLM call\n",
    "    prompt_template = ChatPromptTemplate.from_template(template_string)\n",
    "    chain = LLMChain(llm=llm, prompt=prompt_template)\n",
    "    response = chain.run({\n",
    "        \"string_lda\" : string_lda,\n",
    "        \"num_topics\" : num_topics\n",
    "        })\n",
    "\n",
    "    return response"
   ]
  }
 ],
 "metadata": {
  "kernelspec": {
   "display_name": "ada",
   "language": "python",
   "name": "python3"
  },
  "language_info": {
   "codemirror_mode": {
    "name": "ipython",
    "version": 3
   },
   "file_extension": ".py",
   "mimetype": "text/x-python",
   "name": "python",
   "nbconvert_exporter": "python",
   "pygments_lexer": "ipython3",
   "version": "3.11.9"
  }
 },
 "nbformat": 4,
 "nbformat_minor": 2
}
