{
 "cells": [
  {
   "cell_type": "markdown",
   "metadata": {},
   "source": [
    "## LDA"
   ]
  },
  {
   "cell_type": "code",
   "execution_count": 2,
   "metadata": {},
   "outputs": [],
   "source": [
    "# necessary imports\n",
    "from gensim.corpora import Dictionary\n",
    "from gensim.models import LdaModel\n",
    "from pprint import pprint\n",
    "import pandas as pd\n",
    "from nltk.corpus import stopwords\n",
    "import re"
   ]
  },
  {
   "cell_type": "code",
   "execution_count": 3,
   "metadata": {},
   "outputs": [],
   "source": [
    "# data\n",
    "path_plot = 'data/plot_summaries.txt'\n",
    "plot_summary_df = pd.read_csv(path_plot, delimiter='\\t', header=None)\n",
    "plot_summary_df.columns = ['movie_id', 'plot_summary']"
   ]
  },
  {
   "cell_type": "code",
   "execution_count": 5,
   "metadata": {},
   "outputs": [
    {
     "name": "stdout",
     "output_type": "stream",
     "text": [
      "                                       all_summaries\n",
      "0  Shlykov, a hard-working taxi driver and Lyosha...\n"
     ]
    }
   ],
   "source": [
    "# Create a dataframe with one cell resulting of the concatenation of the summaries\n",
    "all_summaries = plot_summary_df['plot_summary'].str.cat(sep=' ')\n",
    "\n",
    "concat_summaries_df = pd.DataFrame({'all_summaries': [all_summaries]})\n",
    "print(concat_summaries_df)"
   ]
  },
  {
   "cell_type": "markdown",
   "metadata": {},
   "source": [
    "Code below inspired from : https://medium.com/@pinakdatta/understanding-lda-unveiling-hidden-topics-in-text-data-9bbbd25ae162"
   ]
  },
  {
   "cell_type": "code",
   "execution_count": 32,
   "metadata": {},
   "outputs": [],
   "source": [
    "def text_split(text) :\n",
    "    \n",
    "    #initializaing a set of frequent and not relevent words in english\n",
    "    stop_words = set(stopwords.words('english'))\n",
    "\n",
    "    #Remove from text all punctuations\n",
    "    text = re.sub(r'[^\\w\\s]', '', text)\n",
    "    \n",
    "    #we transform all the strings into minuscules using lower function + and split them into a list of word (under string format)\n",
    "    #we only keep the words that don't appear in the stop_words set\n",
    "    text_splited = [word for word in text.lower().split() if word not in stop_words]\n",
    "    \n",
    "    return text_splited\n",
    "\n",
    "def bag_of_words(text_splited) : \n",
    "    \n",
    "    # Create a dictionary mapping each word to a unique id\n",
    "    dictionary = Dictionary([text_splited])\n",
    "    \n",
    "    \n",
    "    corpus = dictionary.doc2bow(text_splited)\n",
    "    \n",
    "    return corpus, dictionary\n",
    "    \n",
    "def lda(df_line) : \n",
    "    corpus, dictionary = df_line['corpus']\n",
    "    \n",
    "    lda_model = LdaModel([corpus], num_topics=1, id2word=dictionary)\n",
    "    return lda_model\n",
    "\n",
    "def get_topics(lda_model):\n",
    "    \n",
    "    return lda_model.show_topics(num_topics=1, num_words=5, formatted=True)"
   ]
  },
  {
   "cell_type": "code",
   "execution_count": 19,
   "metadata": {},
   "outputs": [],
   "source": [
    "# We transforme the type of the column plot_summary (str) into lists of str and split the words composing it\n",
    "plot_summary_df['split'] = plot_summary_df['plot_summary'].apply(text_split)\n"
   ]
  },
  {
   "cell_type": "code",
   "execution_count": 20,
   "metadata": {},
   "outputs": [],
   "source": [
    "#we convert the splited lists into bag-of-words\n",
    "plot_summary_df['corpus'] = plot_summary_df['split'].apply(bag_of_words)"
   ]
  },
  {
   "cell_type": "code",
   "execution_count": 21,
   "metadata": {},
   "outputs": [],
   "source": [
    "# Train the LDA model\n",
    "plot_summary_df['lda'] = plot_summary_df.apply(lda, axis=1)"
   ]
  },
  {
   "cell_type": "code",
   "execution_count": 33,
   "metadata": {},
   "outputs": [],
   "source": [
    "pprint(plot_summary_df['lda'].apply(get_topics).tolist())"
   ]
  },
  {
   "cell_type": "markdown",
   "metadata": {},
   "source": [
    "Grouper les résumés par décennie."
   ]
  },
  {
   "cell_type": "code",
   "execution_count": 36,
   "metadata": {},
   "outputs": [],
   "source": [
    "# We transforme the type of the column all_summaries (str) into lists of str and split the words composing it\n",
    "concat_summaries_df['split'] = concat_summaries_df['all_summaries'].apply(text_split)\n"
   ]
  },
  {
   "cell_type": "code",
   "execution_count": 37,
   "metadata": {},
   "outputs": [],
   "source": [
    "#we convert the splited lists into bag-of-words\n",
    "concat_summaries_df['corpus'] = concat_summaries_df['split'].apply(bag_of_words)"
   ]
  },
  {
   "cell_type": "code",
   "execution_count": 38,
   "metadata": {},
   "outputs": [],
   "source": [
    "# Train the LDA model\n",
    "concat_summaries_df['lda'] = concat_summaries_df.apply(lda, axis=1)"
   ]
  },
  {
   "cell_type": "code",
   "execution_count": 39,
   "metadata": {},
   "outputs": [
    {
     "name": "stdout",
     "output_type": "stream",
     "text": [
      "[[(0,\n",
      "   '0.004*\"one\" + 0.003*\"back\" + 0.003*\"two\" + 0.003*\"film\" + 0.003*\"tells\"')]]\n"
     ]
    }
   ],
   "source": [
    "pprint(concat_summaries_df['lda'].apply(get_topics).tolist())"
   ]
  }
 ],
 "metadata": {
  "kernelspec": {
   "display_name": "Python 3 (ipykernel)",
   "language": "python",
   "name": "python3"
  },
  "language_info": {
   "codemirror_mode": {
    "name": "ipython",
    "version": 3
   },
   "file_extension": ".py",
   "mimetype": "text/x-python",
   "name": "python",
   "nbconvert_exporter": "python",
   "pygments_lexer": "ipython3",
   "version": "3.11.10"
  }
 },
 "nbformat": 4,
 "nbformat_minor": 4
}
