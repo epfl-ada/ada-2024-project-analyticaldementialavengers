{
 "cells": [
  {
   "cell_type": "markdown",
   "id": "3e059a3a-bb84-451e-9201-9bcafb7fde86",
   "metadata": {},
   "source": [
    "# Data opening"
   ]
  },
  {
   "cell_type": "code",
   "execution_count": 38,
   "id": "40d88e2e",
   "metadata": {},
   "outputs": [],
   "source": [
    "import pandas as pd\n",
    "import os\n",
    "import matplotlib.pyplot as plt"
   ]
  },
  {
   "cell_type": "markdown",
   "id": "d76e137b",
   "metadata": {},
   "source": [
    "## *Characters*"
   ]
  },
  {
   "cell_type": "code",
   "execution_count": null,
   "id": "fccb0102",
   "metadata": {},
   "outputs": [],
   "source": [
    "characters_df = pd.read_csv('/home/sara/Dropbox/epfl/master/MA1/ADA/project/data/MovieSummaries/character.metadata.tsv', sep='\\t', header=None)\n",
    "characters_df.reset_index(drop=True, inplace=True)\n",
    "\n",
    "characters_df.head()"
   ]
  },
  {
   "cell_type": "code",
   "execution_count": 40,
   "id": "e96645de",
   "metadata": {},
   "outputs": [],
   "source": [
    "# Adding column names after reading the file\n",
    "characters_df.columns = ['Wikipedia movie ID', 'Freebase Movie ID', ' Movie release date', 'Character name', 'Actor date of birth', 'Actor gender', 'Actor height','Actor ethnicity',\n",
    "                         'Actor name', ' Actor age at movie release','Freebase character/actor map ID','Freebase character ID','Freebase actor ID']"
   ]
  },
  {
   "cell_type": "code",
   "execution_count": null,
   "id": "4fc98761",
   "metadata": {},
   "outputs": [],
   "source": [
    "characters_df"
   ]
  },
  {
   "cell_type": "code",
   "execution_count": null,
   "id": "3303d0cf",
   "metadata": {},
   "outputs": [],
   "source": [
    "# Characters number\n",
    "movies_number = len(characters_df)\n",
    "print('Number of characters:', movies_number)"
   ]
  },
  {
   "cell_type": "code",
   "execution_count": null,
   "id": "3297d7cf",
   "metadata": {},
   "outputs": [],
   "source": [
    "# Gender representation\n",
    "gennre_counts=characters_df['Actor gender'].value_counts()\n",
    "\n",
    "# Proportion calculation\n",
    "proportions = gennre_counts/gennre_counts.sum()\n",
    "\n",
    "# Graphical representation\n",
    "plt.figure(figsize=(8, 8))\n",
    "plt.pie(proportions, labels=proportions.index, autopct='%1.1f%%', colors=['skyblue', 'lightcoral'])\n",
    "plt.title('Proportion d\\'hommes et de femmes parmi les acteurs')\n",
    "plt.show()\n"
   ]
  },
  {
   "cell_type": "markdown",
   "id": "865a71d1",
   "metadata": {},
   "source": [
    "## *Movies*"
   ]
  },
  {
   "cell_type": "code",
   "execution_count": null,
   "id": "49cc88c1",
   "metadata": {},
   "outputs": [],
   "source": [
    "movies_df = pd.read_csv('/home/sara/Dropbox/epfl/master/MA1/ADA/project/data/MovieSummaries/movie.metadata.tsv', sep='\\t', header=None)\n",
    "movies_df.head()"
   ]
  },
  {
   "cell_type": "code",
   "execution_count": null,
   "id": "b7e8e3a4",
   "metadata": {},
   "outputs": [],
   "source": [
    "# Adding column names after reading the file\n",
    "movies_df.columns = ['Wikipedia movie ID', 'Freebase Movie ID', ' Movie name', 'Movie release date', 'Movie box office revenue', 'Movie runtime', 'Movie language','Movie countries',\n",
    "                         'Movie genre']\n",
    "\n",
    "movies_df"
   ]
  },
  {
   "cell_type": "code",
   "execution_count": null,
   "id": "f1a80200",
   "metadata": {},
   "outputs": [],
   "source": [
    "# Number of movies\n",
    "movies_number = len(movies_df)\n",
    "print('Number of movies:', movies_number)\n",
    "\n",
    "# Number of movie genres\n",
    "genre_number = movies_df['Movie genre'].nunique()\n",
    "print(f\"Number of different genre : {genre_number}\")\n",
    "\n",
    "\n",
    "# Number of movie languages\n",
    "movie_languages = movies_df['Movie language'].nunique()\n",
    "print(f\"Number of different languages : {movie_languages}\")\n",
    "\n",
    "# Number of english movies\n",
    "movie_in_english = movies_df[movies_df['Movie language']=='{\"/m/02h40lc\": \"English Language\"}']\n",
    "number_of_movies_in_english = len(movie_in_english)\n",
    "print(f\"Number of movies in english : {number_of_movies_in_english}\")\n"
   ]
  },
  {
   "cell_type": "code",
   "execution_count": null,
   "id": "97089a74",
   "metadata": {},
   "outputs": [],
   "source": [
    "# From when to when films have been released\n",
    "movies_df['Movie release date'] = pd.to_datetime(movies_df['Movie release date'], errors='coerce')\n",
    "\n",
    "first_movie = movies_df['Movie release date'].min()\n",
    "last_movie = movies_df['Movie release date'].max()\n",
    "\n",
    "print(f\"First movie released on : {first_movie}\")\n",
    "print(f\"Last movie released on : {last_movie}\")"
   ]
  },
  {
   "cell_type": "code",
   "execution_count": null,
   "id": "f4ac29da",
   "metadata": {},
   "outputs": [],
   "source": [
    "# Number of countries that have been produced movies\n",
    "unique_countries = movies_df['Movie countries'].nunique()\n",
    "\n",
    "print(f\"Number of countries that have been produced movies : {unique_countries}\")\n",
    "\n",
    "# Number of american movies\n",
    "american_movies = movies_df[movies_df['Movie countries']=='{\"/m/09c7w0\": \"United States of America\"}']\n",
    "number_of_american_movies = len(american_movies)\n",
    "print(f\"Number of american movies : {number_of_american_movies}\")\n",
    "\n",
    "# Number of japan movies\n",
    "japan_movies = movies_df[movies_df['Movie countries']=='{\"/m/03_3d\": \"Japan\"}']\n",
    "number_of_japan_movies = len(japan_movies)\n",
    "print(f\"Number of japan movies : {number_of_japan_movies}\")\n",
    "\n",
    "# Number of indian movies\n",
    "indian_movies = movies_df[movies_df['Movie countries']=='{\"/m/03rk0\": \"India\"}']\n",
    "number_of_indian_movies = len(indian_movies)\n",
    "print(f\"Number of indian: {number_of_indian_movies}\")\n",
    "\n"
   ]
  },
  {
   "cell_type": "markdown",
   "id": "62c3661e",
   "metadata": {},
   "source": [
    "## *Name cluster*"
   ]
  },
  {
   "cell_type": "code",
   "execution_count": null,
   "id": "6e2b8872",
   "metadata": {},
   "outputs": [],
   "source": [
    "path_name = '/home/sara/Dropbox/epfl/master/MA1/ADA/project/data/MovieSummaries/name.clusters.txt'\n",
    "\n",
    "# Read the content of the file\n",
    "with open(path_name, 'r') as fichier:\n",
    "    content = fichier.readlines()\n",
    "# print(content)\n",
    "\n",
    "# Adding of the headers\n",
    "headers = \"Unique character name\\tFreebase actor ID\\n\"\n",
    "if content[0].strip() != headers.strip():\n",
    "     content.insert(0, headers)\n",
    "\n",
    "#Writing the new content in the file\n",
    "with open(path_name, 'w') as fichier:\n",
    "     fichier.writelines(content)\n",
    "\n",
    "#See the new contente in the file\n",
    "with open(path_name, 'r') as fichier:\n",
    "     new_content = fichier.read()\n",
    "\n",
    "print(new_content)"
   ]
  },
  {
   "cell_type": "code",
   "execution_count": null,
   "id": "4dd253f3",
   "metadata": {},
   "outputs": [],
   "source": [
    "# Number of different name\n",
    "\n",
    "# Lire le fichier texte\n",
    "with open(path_name) as file:\n",
    "    # Lire toutes les lignes du fichier\n",
    "    lines = file.readlines()\n",
    "\n",
    "# Extraire les noms (supposons que chaque ligne contient un nom)\n",
    "names = [line.strip() for line in lines]\n",
    "\n",
    "# Compter le nombre de noms différents\n",
    "unique_names = len(set(names))\n",
    "\n",
    "print(f\"Number of different names : {unique_names}\")"
   ]
  },
  {
   "cell_type": "markdown",
   "id": "3250553c",
   "metadata": {},
   "source": [
    "## *Plot summary*"
   ]
  },
  {
   "cell_type": "code",
   "execution_count": null,
   "id": "3fea96ca",
   "metadata": {},
   "outputs": [],
   "source": [
    "with open('/home/sara/Dropbox/epfl/master/MA1/ADA/project/data/MovieSummaries/plot_summaries.txt', 'r') as fichier:\n",
    "    content = fichier.read()\n",
    "    \n",
    "print(content)"
   ]
  },
  {
   "cell_type": "code",
   "execution_count": null,
   "id": "f618bb68",
   "metadata": {},
   "outputs": [],
   "source": [
    "path_plot = '/home/sara/Dropbox/epfl/master/MA1/ADA/project/data/MovieSummaries/plot_summaries.txt'\n",
    "\n",
    "# Read the content of the file\n",
    "with open(path_plot, 'r') as fichier:\n",
    "    content = fichier.readlines()\n",
    "\n",
    "# Adding of the headers\n",
    "headers = \"Wikipedia movie ID\\tPlot summaries\\n\"\n",
    "if content[0].strip() != headers.strip():\n",
    "    content.insert(0, headers)\n",
    "\n",
    "# Writing the new content in the file\n",
    "with open(path_plot, 'w') as fichier:\n",
    "    fichier.writelines(content)\n",
    "\n",
    "# See the new contente in the file\n",
    "with open(path_plot, 'r') as fichier:\n",
    "    new_content = fichier.read()\n",
    "\n",
    "print(new_content)"
   ]
  },
  {
   "cell_type": "code",
   "execution_count": null,
   "id": "62eb7e9e",
   "metadata": {},
   "outputs": [],
   "source": [
    "# Lire le fichier texte\n",
    "with open(path_plot, 'r') as file:\n",
    "    # Lire tout le contenu du fichier\n",
    "    content = file.read()\n",
    "\n",
    "# Séparer les résumés par les lignes vides\n",
    "summaries = content.split('\\n\\n')\n",
    "\n",
    "# Compter le nombre de résumés\n",
    "number_of_summaries = len(summaries)\n",
    "\n",
    "print(f\"Le nombre de résumés de films dans le fichier est : {number_of_summaries}\")"
   ]
  },
  {
   "cell_type": "markdown",
   "id": "65dfa1b8",
   "metadata": {},
   "source": [
    "## *TV tropes cluster (stéréotypes)*"
   ]
  },
  {
   "cell_type": "code",
   "execution_count": null,
   "id": "d1d87508",
   "metadata": {},
   "outputs": [],
   "source": [
    "with open('/home/sara/Dropbox/epfl/master/MA1/ADA/project/data/MovieSummaries/tvtropes.clusters.txt', 'r') as fichier:\n",
    "    content = fichier.read()\n",
    "    \n",
    "print(content)\n"
   ]
  }
 ],
 "metadata": {
  "kernelspec": {
   "display_name": "base",
   "language": "python",
   "name": "python3"
  },
  "language_info": {
   "codemirror_mode": {
    "name": "ipython",
    "version": 3
   },
   "file_extension": ".py",
   "mimetype": "text/x-python",
   "name": "python",
   "nbconvert_exporter": "python",
   "pygments_lexer": "ipython3",
   "version": "3.11.9"
  }
 },
 "nbformat": 4,
 "nbformat_minor": 5
}
