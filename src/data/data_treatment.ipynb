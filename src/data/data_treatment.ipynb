{
 "cells": [
  {
   "cell_type": "markdown",
   "metadata": {},
   "source": [
    "# Preparation and transformation of the data"
   ]
  },
  {
   "cell_type": "markdown",
   "metadata": {},
   "source": [
    "> In this initial section, before diving into our main analysis, it's crucial to properly prepare and understand our dataset that form the foundation of our study. This preliminary phase involves several key steps:\n",
    "> 1. Data Loading: We'll begin by opening our data files and adding headers based on the *Readme* of thE *CMU Movie Summary Corpus* study (http://www.cs.cmu.edu/~ark/personas/).\n",
    "> 2. Data Size Evaluation: Understanding the size of our datasets is essential for determining appropriate processing methods and potential computational constraints.\n",
    "> 3. Data Merging: We'll combine two relevant dataframes (`characters_df` and `movies_df`) to create a more comprehensive dataset and to facilitate the statistical anaylsis.\n",
    "> 4. Separation of data into decades: After merging, we'll separate the dataset into decades as we want to study an evolution over time."
   ]
  },
  {
   "cell_type": "code",
   "execution_count": 8,
   "metadata": {},
   "outputs": [],
   "source": [
    "import pandas as pd\n",
    "import numpy as np"
   ]
  },
  {
   "cell_type": "code",
   "execution_count": 18,
   "metadata": {},
   "outputs": [],
   "source": [
    "# Script to load the notebook utils.ipynb\n",
    "import nbformat\n",
    "from IPython.core.interactiveshell import InteractiveShell\n",
    "\n",
    "# Load the notebook utils.ipynb\n",
    "with open('../scripts/utils.ipynb') as f:\n",
    "    nb = nbformat.read(f, as_version=4)\n",
    "\n",
    "# Create an instance of InteractiveShell\n",
    "shell = InteractiveShell.instance()\n",
    "\n",
    "# Execute the notebook utils.ipynb\n",
    "for cell in nb.cells:\n",
    "    if cell.cell_type == 'code':\n",
    "        shell.run_cell(cell.source)"
   ]
  },
  {
   "cell_type": "markdown",
   "metadata": {},
   "source": [
    "## 1. Adding dataset headers"
   ]
  },
  {
   "cell_type": "code",
   "execution_count": 19,
   "metadata": {},
   "outputs": [],
   "source": [
    "import pandas as pd\n",
    "\n",
    "# Characters file\n",
    "characters_df = pd.read_csv('../../data/character.metadata.tsv', sep='\\t', header=None)\n",
    "characters_df.columns = ['Wikipedia_movie_ID', 'Freebase_Movie_ID', 'Movie_release_date', 'Character_name', 'Actor_date_of_birth', 'Actor_gender', 'Actor_height','Actor_ethnicity',\n",
    "                         'Actor_name', 'Actor_age_at_movie_release','Freebase_character/actor_map_ID','Freebase_character_ID','Freebase_actor_ID']\n",
    "characters_df.head()\n",
    "characters_df.to_csv('character.metadata.tsv',  sep='\\t', index=False)\n",
    "\n",
    "# Movies file\n",
    "movies_df = pd.read_csv('../../data/movie.metadata.tsv', sep='\\t', header=None)\n",
    "movies_df.columns = ['Wikipedia_movie_ID', 'Freebase_Movie_ID', 'Movie_name', 'Movie_release_date', 'Movie_box_office_revenue', 'Movie_runtime', 'Movie_languages','Movie_countries',\n",
    "                         'Movie_genres']\n",
    "movies_df.to_csv('movie.metadata.tsv',  sep='\\t', index=False)\n",
    "\n",
    "# Name clusters file\n",
    "path_name_cluster = '../../data/name.clusters.txt'\n",
    "name_cluster_df = pd.read_csv(path_name_cluster, delimiter='\\t', header=None)\n",
    "name_cluster_df.columns = ['unique_character_name', 'freebase_actor_id']\n",
    "name_cluster_df.to_csv('name.clusters.txt',  sep='\\t', index=False)\n",
    "\n",
    "# Plot summary file\n",
    "# Read the txt file by specifying the delimiter (here, a tabulation)\n",
    "path_plot = '../../data/plot_summaries.txt'\n",
    "plot_summary_df = pd.read_csv(path_plot, delimiter='\\t', header=None)\n",
    "plot_summary_df.columns = ['movie_id', 'plot_summary']\n",
    "plot_summary_df.to_csv('plot_summaries.txt',  sep='\\t', index=False)\n",
    "\n",
    "# TV tropes cluster\n",
    "path_name_cluster = '../../data/tvtropes.clusters.txt'\n",
    "tv_tropes_df = pd.read_csv(path_name_cluster, delimiter='\\t', header=None)\n",
    "tv_tropes_df.columns = ['character_types', 'ID_field']\n",
    "tv_tropes_df.to_csv('tvtropes.clusters.txt',  sep='\\t', index=False)"
   ]
  },
  {
   "cell_type": "markdown",
   "metadata": {},
   "source": [
    "# 2. Merging of the `characters_df` and `moves_df`"
   ]
  },
  {
   "cell_type": "code",
   "execution_count": 20,
   "metadata": {},
   "outputs": [],
   "source": [
    "merged_df = pd.merge(characters_df, movies_df, on=['Wikipedia_movie_ID', 'Freebase_Movie_ID', 'Movie_release_date'])\n",
    "#merged_df.to_csv('merged_df.tsv', sep='\\t', index=False)"
   ]
  },
  {
   "cell_type": "code",
   "execution_count": 21,
   "metadata": {},
   "outputs": [
    {
     "data": {
      "text/html": [
       "<div>\n",
       "<style scoped>\n",
       "    .dataframe tbody tr th:only-of-type {\n",
       "        vertical-align: middle;\n",
       "    }\n",
       "\n",
       "    .dataframe tbody tr th {\n",
       "        vertical-align: top;\n",
       "    }\n",
       "\n",
       "    .dataframe thead th {\n",
       "        text-align: right;\n",
       "    }\n",
       "</style>\n",
       "<table border=\"1\" class=\"dataframe\">\n",
       "  <thead>\n",
       "    <tr style=\"text-align: right;\">\n",
       "      <th></th>\n",
       "      <th>Wikipedia_movie_ID</th>\n",
       "      <th>Freebase_Movie_ID</th>\n",
       "      <th>Movie_release_date</th>\n",
       "      <th>Character_name</th>\n",
       "      <th>Actor_date_of_birth</th>\n",
       "      <th>Actor_gender</th>\n",
       "      <th>Actor_height</th>\n",
       "      <th>Actor_ethnicity</th>\n",
       "      <th>Actor_name</th>\n",
       "      <th>Actor_age_at_movie_release</th>\n",
       "      <th>Freebase_character/actor_map_ID</th>\n",
       "      <th>Freebase_character_ID</th>\n",
       "      <th>Freebase_actor_ID</th>\n",
       "      <th>Movie_name</th>\n",
       "      <th>Movie_box_office_revenue</th>\n",
       "      <th>Movie_runtime</th>\n",
       "      <th>Movie_languages</th>\n",
       "      <th>Movie_countries</th>\n",
       "      <th>Movie_genres</th>\n",
       "    </tr>\n",
       "  </thead>\n",
       "  <tbody>\n",
       "    <tr>\n",
       "      <th>0</th>\n",
       "      <td>975900</td>\n",
       "      <td>/m/03vyhn</td>\n",
       "      <td>2001-08-24</td>\n",
       "      <td>Akooshay</td>\n",
       "      <td>1958-08-26</td>\n",
       "      <td>F</td>\n",
       "      <td>1.620</td>\n",
       "      <td>NaN</td>\n",
       "      <td>Wanda De Jesus</td>\n",
       "      <td>42.0</td>\n",
       "      <td>/m/0bgchxw</td>\n",
       "      <td>/m/0bgcj3x</td>\n",
       "      <td>/m/03wcfv7</td>\n",
       "      <td>Ghosts of Mars</td>\n",
       "      <td>14010832.0</td>\n",
       "      <td>98.0</td>\n",
       "      <td>{\"/m/02h40lc\": \"English Language\"}</td>\n",
       "      <td>{\"/m/09c7w0\": \"United States of America\"}</td>\n",
       "      <td>{\"/m/01jfsb\": \"Thriller\", \"/m/06n90\": \"Science...</td>\n",
       "    </tr>\n",
       "    <tr>\n",
       "      <th>1</th>\n",
       "      <td>975900</td>\n",
       "      <td>/m/03vyhn</td>\n",
       "      <td>2001-08-24</td>\n",
       "      <td>Lieutenant Melanie Ballard</td>\n",
       "      <td>1974-08-15</td>\n",
       "      <td>F</td>\n",
       "      <td>1.780</td>\n",
       "      <td>/m/044038p</td>\n",
       "      <td>Natasha Henstridge</td>\n",
       "      <td>27.0</td>\n",
       "      <td>/m/0jys3m</td>\n",
       "      <td>/m/0bgchn4</td>\n",
       "      <td>/m/0346l4</td>\n",
       "      <td>Ghosts of Mars</td>\n",
       "      <td>14010832.0</td>\n",
       "      <td>98.0</td>\n",
       "      <td>{\"/m/02h40lc\": \"English Language\"}</td>\n",
       "      <td>{\"/m/09c7w0\": \"United States of America\"}</td>\n",
       "      <td>{\"/m/01jfsb\": \"Thriller\", \"/m/06n90\": \"Science...</td>\n",
       "    </tr>\n",
       "    <tr>\n",
       "      <th>2</th>\n",
       "      <td>975900</td>\n",
       "      <td>/m/03vyhn</td>\n",
       "      <td>2001-08-24</td>\n",
       "      <td>Desolation Williams</td>\n",
       "      <td>1969-06-15</td>\n",
       "      <td>M</td>\n",
       "      <td>1.727</td>\n",
       "      <td>/m/0x67</td>\n",
       "      <td>Ice Cube</td>\n",
       "      <td>32.0</td>\n",
       "      <td>/m/0jys3g</td>\n",
       "      <td>/m/0bgchn_</td>\n",
       "      <td>/m/01vw26l</td>\n",
       "      <td>Ghosts of Mars</td>\n",
       "      <td>14010832.0</td>\n",
       "      <td>98.0</td>\n",
       "      <td>{\"/m/02h40lc\": \"English Language\"}</td>\n",
       "      <td>{\"/m/09c7w0\": \"United States of America\"}</td>\n",
       "      <td>{\"/m/01jfsb\": \"Thriller\", \"/m/06n90\": \"Science...</td>\n",
       "    </tr>\n",
       "    <tr>\n",
       "      <th>3</th>\n",
       "      <td>975900</td>\n",
       "      <td>/m/03vyhn</td>\n",
       "      <td>2001-08-24</td>\n",
       "      <td>Sgt Jericho Butler</td>\n",
       "      <td>1967-09-12</td>\n",
       "      <td>M</td>\n",
       "      <td>1.750</td>\n",
       "      <td>NaN</td>\n",
       "      <td>Jason Statham</td>\n",
       "      <td>33.0</td>\n",
       "      <td>/m/02vchl6</td>\n",
       "      <td>/m/0bgchnq</td>\n",
       "      <td>/m/034hyc</td>\n",
       "      <td>Ghosts of Mars</td>\n",
       "      <td>14010832.0</td>\n",
       "      <td>98.0</td>\n",
       "      <td>{\"/m/02h40lc\": \"English Language\"}</td>\n",
       "      <td>{\"/m/09c7w0\": \"United States of America\"}</td>\n",
       "      <td>{\"/m/01jfsb\": \"Thriller\", \"/m/06n90\": \"Science...</td>\n",
       "    </tr>\n",
       "    <tr>\n",
       "      <th>4</th>\n",
       "      <td>975900</td>\n",
       "      <td>/m/03vyhn</td>\n",
       "      <td>2001-08-24</td>\n",
       "      <td>Bashira Kincaid</td>\n",
       "      <td>1977-09-25</td>\n",
       "      <td>F</td>\n",
       "      <td>1.650</td>\n",
       "      <td>NaN</td>\n",
       "      <td>Clea DuVall</td>\n",
       "      <td>23.0</td>\n",
       "      <td>/m/02vbb3r</td>\n",
       "      <td>/m/0bgchp9</td>\n",
       "      <td>/m/01y9xg</td>\n",
       "      <td>Ghosts of Mars</td>\n",
       "      <td>14010832.0</td>\n",
       "      <td>98.0</td>\n",
       "      <td>{\"/m/02h40lc\": \"English Language\"}</td>\n",
       "      <td>{\"/m/09c7w0\": \"United States of America\"}</td>\n",
       "      <td>{\"/m/01jfsb\": \"Thriller\", \"/m/06n90\": \"Science...</td>\n",
       "    </tr>\n",
       "  </tbody>\n",
       "</table>\n",
       "</div>"
      ],
      "text/plain": [
       "   Wikipedia_movie_ID Freebase_Movie_ID Movie_release_date  \\\n",
       "0              975900         /m/03vyhn         2001-08-24   \n",
       "1              975900         /m/03vyhn         2001-08-24   \n",
       "2              975900         /m/03vyhn         2001-08-24   \n",
       "3              975900         /m/03vyhn         2001-08-24   \n",
       "4              975900         /m/03vyhn         2001-08-24   \n",
       "\n",
       "               Character_name Actor_date_of_birth Actor_gender  Actor_height  \\\n",
       "0                    Akooshay          1958-08-26            F         1.620   \n",
       "1  Lieutenant Melanie Ballard          1974-08-15            F         1.780   \n",
       "2         Desolation Williams          1969-06-15            M         1.727   \n",
       "3          Sgt Jericho Butler          1967-09-12            M         1.750   \n",
       "4             Bashira Kincaid          1977-09-25            F         1.650   \n",
       "\n",
       "  Actor_ethnicity          Actor_name  Actor_age_at_movie_release  \\\n",
       "0             NaN      Wanda De Jesus                        42.0   \n",
       "1      /m/044038p  Natasha Henstridge                        27.0   \n",
       "2         /m/0x67            Ice Cube                        32.0   \n",
       "3             NaN       Jason Statham                        33.0   \n",
       "4             NaN         Clea DuVall                        23.0   \n",
       "\n",
       "  Freebase_character/actor_map_ID Freebase_character_ID Freebase_actor_ID  \\\n",
       "0                      /m/0bgchxw            /m/0bgcj3x        /m/03wcfv7   \n",
       "1                       /m/0jys3m            /m/0bgchn4         /m/0346l4   \n",
       "2                       /m/0jys3g            /m/0bgchn_        /m/01vw26l   \n",
       "3                      /m/02vchl6            /m/0bgchnq         /m/034hyc   \n",
       "4                      /m/02vbb3r            /m/0bgchp9         /m/01y9xg   \n",
       "\n",
       "       Movie_name  Movie_box_office_revenue  Movie_runtime  \\\n",
       "0  Ghosts of Mars                14010832.0           98.0   \n",
       "1  Ghosts of Mars                14010832.0           98.0   \n",
       "2  Ghosts of Mars                14010832.0           98.0   \n",
       "3  Ghosts of Mars                14010832.0           98.0   \n",
       "4  Ghosts of Mars                14010832.0           98.0   \n",
       "\n",
       "                      Movie_languages  \\\n",
       "0  {\"/m/02h40lc\": \"English Language\"}   \n",
       "1  {\"/m/02h40lc\": \"English Language\"}   \n",
       "2  {\"/m/02h40lc\": \"English Language\"}   \n",
       "3  {\"/m/02h40lc\": \"English Language\"}   \n",
       "4  {\"/m/02h40lc\": \"English Language\"}   \n",
       "\n",
       "                             Movie_countries  \\\n",
       "0  {\"/m/09c7w0\": \"United States of America\"}   \n",
       "1  {\"/m/09c7w0\": \"United States of America\"}   \n",
       "2  {\"/m/09c7w0\": \"United States of America\"}   \n",
       "3  {\"/m/09c7w0\": \"United States of America\"}   \n",
       "4  {\"/m/09c7w0\": \"United States of America\"}   \n",
       "\n",
       "                                        Movie_genres  \n",
       "0  {\"/m/01jfsb\": \"Thriller\", \"/m/06n90\": \"Science...  \n",
       "1  {\"/m/01jfsb\": \"Thriller\", \"/m/06n90\": \"Science...  \n",
       "2  {\"/m/01jfsb\": \"Thriller\", \"/m/06n90\": \"Science...  \n",
       "3  {\"/m/01jfsb\": \"Thriller\", \"/m/06n90\": \"Science...  \n",
       "4  {\"/m/01jfsb\": \"Thriller\", \"/m/06n90\": \"Science...  "
      ]
     },
     "execution_count": 21,
     "metadata": {},
     "output_type": "execute_result"
    }
   ],
   "source": [
    "merged_df.head()    "
   ]
  },
  {
   "cell_type": "markdown",
   "metadata": {},
   "source": [
    "# 3. Separation of the `merged_df` into decades"
   ]
  },
  {
   "cell_type": "code",
   "execution_count": 22,
   "metadata": {},
   "outputs": [
    {
     "name": "stdout",
     "output_type": "stream",
     "text": [
      "Number of movies without release date : 176797, which is 39.23% of the dataset\n",
      "Number of movies without genre : 0, which is 0.0% of the dataset\n"
     ]
    }
   ],
   "source": [
    "# Conversion of the 'Movie_release_date' column to datetime format\n",
    "merged_df['Movie_release_date'] = pd.to_datetime(merged_df['Movie_release_date'], errors='coerce')\n",
    "\n",
    "# Count the number of films without release date\n",
    "films_without_release_date = merged_df['Movie_release_date'].isna().sum()\n",
    "\n",
    "# Display the number of films without release date\n",
    "print(f\"Number of movies without release date : {films_without_release_date}, which is {round(films_without_release_date/len(merged_df)*100, 2)}% of the dataset\")\n",
    "\n",
    "# Count the number of films without associated genres\n",
    "films_without_genre = merged_df['Movie_genres'].isna().sum()\n",
    "\n",
    "# Display the number of films without associated genres\n",
    "print(f\"Number of movies without genre : {films_without_genre}, which is {round(films_without_genre/len(merged_df)*100, 2)}% of the dataset\")"
   ]
  },
  {
   "cell_type": "markdown",
   "metadata": {},
   "source": [
    "> As 39.23% of the dataset has no release date, we cannot simply discard it. We decide to use the average of the release years of films in the same genre, given that all the films in the dataset have a genre or a combination of genres. For the combination of genres, we take the average of the averages for each genre."
   ]
  },
  {
   "cell_type": "code",
   "execution_count": 23,
   "metadata": {},
   "outputs": [
    {
     "name": "stdout",
     "output_type": "stream",
     "text": [
      "Number of movies without release date : 2879 movies, which is 0.64% of the dataset\n"
     ]
    }
   ],
   "source": [
    "# Creation of a new column called \"genre_list\" in movies_df to have a list of all genres of a movie\n",
    "movies_df['genre_list'] = movies_df['Movie_genres'].astype(str).apply(extract_string)\n",
    "\n",
    "# Creation of a new column called \"genre_list\" in merged_df to have a list of all genres of a movie\n",
    "movies_df['genre_list'] = movies_df['Movie_genres'].astype(str).apply(extract_string)\n",
    "merged_df['genre_list'] = merged_df['Movie_genres'].astype(str).apply(extract_string)\n",
    "\n",
    "# Conversion of dates to years (to unfiformize the format)\n",
    "merged_df['Movie_release_year'] = merged_df['Movie_release_date'].dt.year\n",
    "\n",
    "# Calculate the mean release year by genre\n",
    "mean_release_year_by_genre = merged_df.explode('genre_list').groupby('genre_list')['Movie_release_year'].mean()\n",
    "\n",
    "# Estimation of the release year of the films without release date\n",
    "merged_df['Estimated_release_year'] = merged_df.apply(estimate_release_year, axis=1, args=(mean_release_year_by_genre,))\n",
    "\n",
    "# Vérification\n",
    "films_without_release_date = merged_df['Estimated_release_year'].isna().sum()\n",
    "print(f\"Number of movies without release date : {films_without_release_date} movies, which is {round(films_without_release_date/len(merged_df)*100, 2)}% of the dataset\")"
   ]
  },
  {
   "cell_type": "code",
   "execution_count": 24,
   "metadata": {},
   "outputs": [],
   "source": [
    "merged_df.to_csv('merged_df.tsv', sep='\\t', index=False)\n",
    "mean_release_year_by_genre.to_csv('mean_release_year_by_genre.tsv', sep='\\t', index=False)"
   ]
  },
  {
   "cell_type": "markdown",
   "metadata": {},
   "source": [
    "> After using the mean release date of movies with similar genres or the mean of the means for genres combination, only 0.64% of the dataset, which corresponds to 2879 movies, still don't have release date. This is acceptable to work with it. What could explain why some movies still don't have release date is due to the used method. Inded, the mean meathod is not applicable on movies that have a unique genre and no release date, making it impossible to calculate the average."
   ]
  },
  {
   "cell_type": "markdown",
   "metadata": {},
   "source": [
    "# Data treatment of cluster correlations"
   ]
  },
  {
   "cell_type": "markdown",
   "metadata": {},
   "source": [
    "> This code processes correlations derived from the SBERT and LLAMA clustering workflow. It extracts the highest correlations from the data, which are then used to generate plots."
   ]
  },
  {
   "cell_type": "code",
   "execution_count": 15,
   "metadata": {},
   "outputs": [],
   "source": [
    "# Create a CSV file with correlations > 0.35\n",
    "higher_correlations = []\n",
    "for decade in np.arange(1900, 2010, 10):\n",
    "\n",
    "    df = pd.read_csv(f'heatmaps_data/heatmap_data_{decade}.csv', index_col=0)\n",
    "\n",
    "    # Convert all columns to numeric, forcing errors to NaN \n",
    "    df = df.apply(pd.to_numeric, errors='coerce')\n",
    "\n",
    "    # Use stack() to flatten the dataframe and filter correlations greater than 0.35\n",
    "    filtered_df = df.stack()\n",
    "    filtered_df = filtered_df[filtered_df > 0.35]\n",
    "\n",
    "    # Loop through the values and add them to the higher_accuracy list\n",
    "    for (row_label, col_label), correlation_value in filtered_df.items():\n",
    "        higher_correlations.append({\n",
    "            'Decade': decade,\n",
    "            'Movies cluster': row_label,\n",
    "            'History cluster': col_label,\n",
    "            'Correlation': correlation_value\n",
    "        })\n",
    "\n",
    "# Create a dataframe from the higher_accuracy list\n",
    "higher_correlations_df = pd.DataFrame(higher_correlations)\n",
    "\n",
    "# Save the result on csv\n",
    "higher_correlations_df.to_csv('higher_correlations_data.csv', index=False)"
   ]
  },
  {
   "cell_type": "code",
   "execution_count": 16,
   "metadata": {},
   "outputs": [],
   "source": [
    "# Find the max similarities for each decade\n",
    "max_similarities = []\n",
    "\n",
    "for decade in np.arange(1900, 2010, 10):\n",
    "   \n",
    "    df = pd.read_csv(f'max_similarity_plots_data/bar_plot_data_{decade}.csv', index_col=0)\n",
    "\n",
    "    df = df.apply(pd.to_numeric, errors='coerce')\n",
    "\n",
    "    # Find the maximum value in the dataframe\n",
    "    max_value = df.max().max()\n",
    "\n",
    "    # Row and column labels for the maximum value\n",
    "    row_label, col_label = np.unravel_index(df.values.argmax(), df.shape)\n",
    "\n",
    "    # Add the result to the list\n",
    "    max_similarities.append({\n",
    "        'Decade': decade,\n",
    "        'History cluster': df.index[row_label],\n",
    "        'Similarity': max_value\n",
    "    })\n",
    "\n",
    "# Create a dataframe from the max_similarities list\n",
    "max_similarities_df = pd.DataFrame(max_similarities)\n",
    "\n",
    "# Save the result \n",
    "max_similarities_df.to_csv('max_similarities_data.csv', index=False)"
   ]
  }
 ],
 "metadata": {
  "kernelspec": {
   "display_name": "ada",
   "language": "python",
   "name": "python3"
  },
  "language_info": {
   "codemirror_mode": {
    "name": "ipython",
    "version": 3
   },
   "file_extension": ".py",
   "mimetype": "text/x-python",
   "name": "python",
   "nbconvert_exporter": "python",
   "pygments_lexer": "ipython3",
   "version": "3.11.9"
  }
 },
 "nbformat": 4,
 "nbformat_minor": 2
}
