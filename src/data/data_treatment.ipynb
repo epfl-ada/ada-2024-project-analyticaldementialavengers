{
 "cells": [
  {
   "cell_type": "markdown",
   "metadata": {},
   "source": [
    "# Preparation and transformation of the data"
   ]
  },
  {
   "cell_type": "markdown",
   "metadata": {},
   "source": [
    "> In this initial section, before diving into our main analysis, it's crucial to properly prepare and understand our dataset that form the foundation of our study. This preliminary phase involves several key steps:\n",
    "> 1. Data Loading: We'll begin by opening our data files and adding headers based on the *Readme* of thE *CMU Movie Summary Corpus* study (http://www.cs.cmu.edu/~ark/personas/).\n",
    "> 2. Data Size Evaluation: Understanding the size of our datasets is essential for determining appropriate processing methods and potential computational constraints.\n",
    "> 3. Data Merging: We'll combine two relevant dataframes (`characters_df` and `movies_df`) to create a more comprehensive dataset and to facilitate the statistical anaylsis.\n",
    "> 4. Separation of data into decades: After merging, we'll separate the dataset into decades as we want to study an evolution over time."
   ]
  },
  {
   "cell_type": "code",
   "execution_count": 10,
   "metadata": {},
   "outputs": [],
   "source": [
    "import pandas as pd"
   ]
  },
  {
   "cell_type": "code",
   "execution_count": 11,
   "metadata": {},
   "outputs": [],
   "source": [
    "# Script to load the notebook utils.ipynb\n",
    "import nbformat\n",
    "from IPython.core.interactiveshell import InteractiveShell\n",
    "\n",
    "# Load the notebook utils.ipynb\n",
    "with open('/home/sara/Dropbox/epfl/master/MA1/ADA/ada-2024-project-analyticaldementialavengers/src/scripts/utils.ipynb') as f:\n",
    "    nb = nbformat.read(f, as_version=4)\n",
    "\n",
    "# Create an instance of InteractiveShell\n",
    "shell = InteractiveShell.instance()\n",
    "\n",
    "# Execute the notebook utils.ipynb\n",
    "for cell in nb.cells:\n",
    "    if cell.cell_type == 'code':\n",
    "        shell.run_cell(cell.source)"
   ]
  },
  {
   "cell_type": "markdown",
   "metadata": {},
   "source": [
    "## 1. Adding dataset headers"
   ]
  },
  {
   "cell_type": "code",
   "execution_count": 20,
   "metadata": {},
   "outputs": [],
   "source": [
    "# Characers file\n",
    "characters_df = pd.read_csv('/home/sara/Dropbox/epfl/master/MA1/ADA/ada-2024-project-analyticaldementialavengers/data/character.metadata.tsv', sep='\\t', header=None)\n",
    "characters_df.columns = ['Wikipedia_movie_ID', 'Freebase_Movie_ID', 'Movie_release_date', 'Character_name', 'Actor_date_of_birth', 'Actor_gender', 'Actor_height','Actor_ethnicity',\n",
    "                         'Actor_name', 'Actor_age_at_movie_release','Freebase_character/actor_map_ID','Freebase_character_ID','Freebase_actor_ID']\n",
    "characters_df.head()\n",
    "characters_df.to_csv('/home/sara/Dropbox/epfl/master/MA1/ADA/ada-2024-project-analyticaldementialavengers/src/data/characters_df.tsv',  sep='\\t', index=False)\n",
    "\n",
    "# Movies file\n",
    "movies_df = pd.read_csv('/home/sara/Dropbox/epfl/master/MA1/ADA/ada-2024-project-analyticaldementialavengers/data/movie.metadata.tsv', sep='\\t', header=None)\n",
    "movies_df.columns = ['Wikipedia_movie_ID', 'Freebase_Movie_ID', 'Movie_name', 'Movie_release_date', 'Movie_box_office_revenue', 'Movie_runtime', 'Movie_languages','Movie_countries',\n",
    "                         'Movie_genres']\n",
    "movies_df.to_csv('/home/sara/Dropbox/epfl/master/MA1/ADA/ada-2024-project-analyticaldementialavengers/src/data/movies_df.tsv',  sep='\\t', index=False)\n",
    "\n",
    "# Name clusters file\n",
    "path_name_cluster = '/home/sara/Dropbox/epfl/master/MA1/ADA/ada-2024-project-analyticaldementialavengers/data/name.clusters.txt'\n",
    "name_cluster_df = pd.read_csv(path_name_cluster, delimiter='\\t', header=None)\n",
    "name_cluster_df.columns = ['unique_character_name', 'freebase_actor_id']\n",
    "name_cluster_df.to_csv('/home/sara/Dropbox/epfl/master/MA1/ADA/ada-2024-project-analyticaldementialavengers/src/data/name_cluster_df.tsv',  sep='\\t', index=False)\n",
    "\n",
    "# Plot summary file\n",
    "# Read the txt file by specifying the delimiter (here, a tabulation)\n",
    "path_plot = '/home/sara/Dropbox/epfl/master/MA1/ADA/ada-2024-project-analyticaldementialavengers/data/plot_summaries.txt'\n",
    "plot_summary_df = pd.read_csv(path_plot, delimiter='\\t', header=None)\n",
    "plot_summary_df.columns = ['movie_id', 'plot_summary']\n",
    "plot_summary_df.to_csv('/home/sara/Dropbox/epfl/master/MA1/ADA/ada-2024-project-analyticaldementialavengers/src/data/plot_summary.tsv',  sep='\\t', index=False)\n",
    "\n",
    "# TV tropes cluster\n",
    "path_name_cluster = '/home/sara/Dropbox/epfl/master/MA1/ADA/ada-2024-project-analyticaldementialavengers/data/tvtropes.clusters.txt'\n",
    "tv_tropes_df = pd.read_csv(path_name_cluster, delimiter='\\t', header=None)\n",
    "tv_tropes_df.columns = ['character_types', 'ID_field']\n",
    "tv_tropes_df.to_csv('/home/sara/Dropbox/epfl/master/MA1/ADA/ada-2024-project-analyticaldementialavengers/src/data/tv_tropes_df.tsv',  sep='\\t', index=False)"
   ]
  },
  {
   "cell_type": "markdown",
   "metadata": {},
   "source": [
    "# 2. Merging of the `characters_df` and `moves_df`"
   ]
  },
  {
   "cell_type": "code",
   "execution_count": 13,
   "metadata": {},
   "outputs": [],
   "source": [
    "merged_df = pd.merge(characters_df, movies_df, on=['Wikipedia_movie_ID', 'Freebase_Movie_ID', 'Movie_release_date'])"
   ]
  },
  {
   "cell_type": "markdown",
   "metadata": {},
   "source": [
    "# 3. Separation of the `merged_df` into decades"
   ]
  },
  {
   "cell_type": "code",
   "execution_count": 14,
   "metadata": {},
   "outputs": [
    {
     "name": "stdout",
     "output_type": "stream",
     "text": [
      "Number of movies without release date : 176797, which is 39.23% of the dataset\n",
      "Number of movies without genre : 0, which is 0.0% of the dataset\n"
     ]
    }
   ],
   "source": [
    "# Conversion of the 'Movie_release_date' column to datetime format\n",
    "merged_df['Movie_release_date'] = pd.to_datetime(merged_df['Movie_release_date'], errors='coerce')\n",
    "\n",
    "# Count the number of films without release date\n",
    "films_without_release_date = merged_df['Movie_release_date'].isna().sum()\n",
    "\n",
    "# Display the number of films without release date\n",
    "print(f\"Number of movies without release date : {films_without_release_date}, which is {round(films_without_release_date/len(merged_df)*100, 2)}% of the dataset\")\n",
    "\n",
    "# Count the number of films without associated genres\n",
    "films_without_genre = merged_df['Movie_genres'].isna().sum()\n",
    "\n",
    "# Display the number of films without associated genres\n",
    "print(f\"Number of movies without genre : {films_without_genre}, which is {round(films_without_genre/len(merged_df)*100, 2)}% of the dataset\")"
   ]
  },
  {
   "cell_type": "markdown",
   "metadata": {},
   "source": [
    "> As 39.23% of the dataset has no release date, we cannot simply discard it. We decide to use the average of the release years of films in the same genre, given that all the films in the dataset have a genre or a combination of genres. For the combination of genres, we take the average of the averages for each genre."
   ]
  },
  {
   "cell_type": "code",
   "execution_count": 15,
   "metadata": {},
   "outputs": [
    {
     "name": "stdout",
     "output_type": "stream",
     "text": [
      "Number of movies without release date : 2879 movies, which is 0.64% of the dataset\n"
     ]
    }
   ],
   "source": [
    "# Creation of a new column called \"genre_list\" in movies_df to have a list of all genres of a movie\n",
    "movies_df['genre_list'] = movies_df['Movie_genres'].astype(str).apply(extract_string)\n",
    "\n",
    "# Creation of a new column called \"genre_list\" in merged_df to have a list of all genres of a movie\n",
    "movies_df['genre_list'] = movies_df['Movie_genres'].astype(str).apply(extract_string)\n",
    "merged_df['genre_list'] = merged_df['Movie_genres'].astype(str).apply(extract_string)\n",
    "\n",
    "# Conversion of dates to years (to unfiformize the format)\n",
    "merged_df['Movie_release_year'] = merged_df['Movie_release_date'].dt.year\n",
    "\n",
    "# Calculate the mean release year by genre\n",
    "mean_release_year_by_genre = merged_df.explode('genre_list').groupby('genre_list')['Movie_release_year'].mean()\n",
    "\n",
    "# Estimation of the release year of the films without release date\n",
    "merged_df['Estimated_release_year'] = merged_df.apply(estimate_release_year, axis=1)\n",
    "\n",
    "# Vérification\n",
    "films_without_release_date = merged_df['Estimated_release_year'].isna().sum()\n",
    "print(f\"Number of movies without release date : {films_without_release_date} movies, which is {round(films_without_release_date/len(merged_df)*100, 2)}% of the dataset\")"
   ]
  },
  {
   "cell_type": "markdown",
   "metadata": {},
   "source": [
    "> After using the mean release date of movies with similar genres or the mean of the means for genres combination, only 0.64% of the dataset, which corresponds to 2879 movies, still don't have release date. This is acceptable to work with it. What could explain why some movies still don't have release date is due to the used method. Inded, the mean meathod is not applicable on movies that have a unique genre and no release date, making it impossible to calculate the average."
   ]
  }
 ],
 "metadata": {
  "kernelspec": {
   "display_name": "base",
   "language": "python",
   "name": "python3"
  },
  "language_info": {
   "codemirror_mode": {
    "name": "ipython",
    "version": 3
   },
   "file_extension": ".py",
   "mimetype": "text/x-python",
   "name": "python",
   "nbconvert_exporter": "python",
   "pygments_lexer": "ipython3",
   "version": "3.11.9"
  }
 },
 "nbformat": 4,
 "nbformat_minor": 2
}
