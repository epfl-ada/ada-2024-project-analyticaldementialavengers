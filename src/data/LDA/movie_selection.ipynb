{
 "cells": [
  {
   "cell_type": "code",
   "execution_count": 1,
   "metadata": {},
   "outputs": [],
   "source": [
    "import pandas as pd\n",
    "import random\n",
    "random.seed(42) "
   ]
  },
  {
   "cell_type": "code",
   "execution_count": 2,
   "metadata": {},
   "outputs": [],
   "source": [
    "# Script to load the notebook utils.ipynb\n",
    "import nbformat\n",
    "from IPython.core.interactiveshell import InteractiveShell\n",
    "\n",
    "# Load the notebook utils.ipynb\n",
    "with open('../../scripts/utils.ipynb') as f:\n",
    "    nb = nbformat.read(f, as_version=4)\n",
    "\n",
    "# Create an instance of InteractiveShell\n",
    "shell = InteractiveShell.instance()\n",
    "\n",
    "# Execute the notebook utils.ipynb\n",
    "for cell in nb.cells:\n",
    "    if cell.cell_type == 'code':\n",
    "        shell.run_cell(cell.source)"
   ]
  },
  {
   "cell_type": "code",
   "execution_count": 3,
   "metadata": {},
   "outputs": [
    {
     "data": {
      "text/html": [
       "<div>\n",
       "<style scoped>\n",
       "    .dataframe tbody tr th:only-of-type {\n",
       "        vertical-align: middle;\n",
       "    }\n",
       "\n",
       "    .dataframe tbody tr th {\n",
       "        vertical-align: top;\n",
       "    }\n",
       "\n",
       "    .dataframe thead th {\n",
       "        text-align: right;\n",
       "    }\n",
       "</style>\n",
       "<table border=\"1\" class=\"dataframe\">\n",
       "  <thead>\n",
       "    <tr style=\"text-align: right;\">\n",
       "      <th></th>\n",
       "      <th>Wikipedia_movie_ID</th>\n",
       "      <th>Freebase_Movie_ID</th>\n",
       "      <th>Movie_release_date</th>\n",
       "      <th>Character_name</th>\n",
       "      <th>Actor_date_of_birth</th>\n",
       "      <th>Actor_gender</th>\n",
       "      <th>Actor_height</th>\n",
       "      <th>Actor_ethnicity</th>\n",
       "      <th>Actor_name</th>\n",
       "      <th>Actor_age_at_movie_release</th>\n",
       "      <th>...</th>\n",
       "      <th>Freebase_actor_ID</th>\n",
       "      <th>Movie_name</th>\n",
       "      <th>Movie_box_office_revenue</th>\n",
       "      <th>Movie_runtime</th>\n",
       "      <th>Movie_languages</th>\n",
       "      <th>Movie_countries</th>\n",
       "      <th>Movie_genres</th>\n",
       "      <th>genre_list</th>\n",
       "      <th>Movie_release_year</th>\n",
       "      <th>Estimated_release_year</th>\n",
       "    </tr>\n",
       "  </thead>\n",
       "  <tbody>\n",
       "    <tr>\n",
       "      <th>0</th>\n",
       "      <td>975900</td>\n",
       "      <td>/m/03vyhn</td>\n",
       "      <td>2001-08-24</td>\n",
       "      <td>Akooshay</td>\n",
       "      <td>1958-08-26</td>\n",
       "      <td>F</td>\n",
       "      <td>1.620</td>\n",
       "      <td>NaN</td>\n",
       "      <td>Wanda De Jesus</td>\n",
       "      <td>42.0</td>\n",
       "      <td>...</td>\n",
       "      <td>/m/03wcfv7</td>\n",
       "      <td>Ghosts of Mars</td>\n",
       "      <td>14010832.0</td>\n",
       "      <td>98.0</td>\n",
       "      <td>{\"/m/02h40lc\": \"English Language\"}</td>\n",
       "      <td>{\"/m/09c7w0\": \"United States of America\"}</td>\n",
       "      <td>{\"/m/01jfsb\": \"Thriller\", \"/m/06n90\": \"Science...</td>\n",
       "      <td>['Thriller', 'Science Fiction', 'Horror', 'Adv...</td>\n",
       "      <td>2001.0</td>\n",
       "      <td>2001-08-24 00:00:00</td>\n",
       "    </tr>\n",
       "    <tr>\n",
       "      <th>1</th>\n",
       "      <td>975900</td>\n",
       "      <td>/m/03vyhn</td>\n",
       "      <td>2001-08-24</td>\n",
       "      <td>Lieutenant Melanie Ballard</td>\n",
       "      <td>1974-08-15</td>\n",
       "      <td>F</td>\n",
       "      <td>1.780</td>\n",
       "      <td>/m/044038p</td>\n",
       "      <td>Natasha Henstridge</td>\n",
       "      <td>27.0</td>\n",
       "      <td>...</td>\n",
       "      <td>/m/0346l4</td>\n",
       "      <td>Ghosts of Mars</td>\n",
       "      <td>14010832.0</td>\n",
       "      <td>98.0</td>\n",
       "      <td>{\"/m/02h40lc\": \"English Language\"}</td>\n",
       "      <td>{\"/m/09c7w0\": \"United States of America\"}</td>\n",
       "      <td>{\"/m/01jfsb\": \"Thriller\", \"/m/06n90\": \"Science...</td>\n",
       "      <td>['Thriller', 'Science Fiction', 'Horror', 'Adv...</td>\n",
       "      <td>2001.0</td>\n",
       "      <td>2001-08-24 00:00:00</td>\n",
       "    </tr>\n",
       "    <tr>\n",
       "      <th>2</th>\n",
       "      <td>975900</td>\n",
       "      <td>/m/03vyhn</td>\n",
       "      <td>2001-08-24</td>\n",
       "      <td>Desolation Williams</td>\n",
       "      <td>1969-06-15</td>\n",
       "      <td>M</td>\n",
       "      <td>1.727</td>\n",
       "      <td>/m/0x67</td>\n",
       "      <td>Ice Cube</td>\n",
       "      <td>32.0</td>\n",
       "      <td>...</td>\n",
       "      <td>/m/01vw26l</td>\n",
       "      <td>Ghosts of Mars</td>\n",
       "      <td>14010832.0</td>\n",
       "      <td>98.0</td>\n",
       "      <td>{\"/m/02h40lc\": \"English Language\"}</td>\n",
       "      <td>{\"/m/09c7w0\": \"United States of America\"}</td>\n",
       "      <td>{\"/m/01jfsb\": \"Thriller\", \"/m/06n90\": \"Science...</td>\n",
       "      <td>['Thriller', 'Science Fiction', 'Horror', 'Adv...</td>\n",
       "      <td>2001.0</td>\n",
       "      <td>2001-08-24 00:00:00</td>\n",
       "    </tr>\n",
       "    <tr>\n",
       "      <th>3</th>\n",
       "      <td>975900</td>\n",
       "      <td>/m/03vyhn</td>\n",
       "      <td>2001-08-24</td>\n",
       "      <td>Sgt Jericho Butler</td>\n",
       "      <td>1967-09-12</td>\n",
       "      <td>M</td>\n",
       "      <td>1.750</td>\n",
       "      <td>NaN</td>\n",
       "      <td>Jason Statham</td>\n",
       "      <td>33.0</td>\n",
       "      <td>...</td>\n",
       "      <td>/m/034hyc</td>\n",
       "      <td>Ghosts of Mars</td>\n",
       "      <td>14010832.0</td>\n",
       "      <td>98.0</td>\n",
       "      <td>{\"/m/02h40lc\": \"English Language\"}</td>\n",
       "      <td>{\"/m/09c7w0\": \"United States of America\"}</td>\n",
       "      <td>{\"/m/01jfsb\": \"Thriller\", \"/m/06n90\": \"Science...</td>\n",
       "      <td>['Thriller', 'Science Fiction', 'Horror', 'Adv...</td>\n",
       "      <td>2001.0</td>\n",
       "      <td>2001-08-24 00:00:00</td>\n",
       "    </tr>\n",
       "    <tr>\n",
       "      <th>4</th>\n",
       "      <td>975900</td>\n",
       "      <td>/m/03vyhn</td>\n",
       "      <td>2001-08-24</td>\n",
       "      <td>Bashira Kincaid</td>\n",
       "      <td>1977-09-25</td>\n",
       "      <td>F</td>\n",
       "      <td>1.650</td>\n",
       "      <td>NaN</td>\n",
       "      <td>Clea DuVall</td>\n",
       "      <td>23.0</td>\n",
       "      <td>...</td>\n",
       "      <td>/m/01y9xg</td>\n",
       "      <td>Ghosts of Mars</td>\n",
       "      <td>14010832.0</td>\n",
       "      <td>98.0</td>\n",
       "      <td>{\"/m/02h40lc\": \"English Language\"}</td>\n",
       "      <td>{\"/m/09c7w0\": \"United States of America\"}</td>\n",
       "      <td>{\"/m/01jfsb\": \"Thriller\", \"/m/06n90\": \"Science...</td>\n",
       "      <td>['Thriller', 'Science Fiction', 'Horror', 'Adv...</td>\n",
       "      <td>2001.0</td>\n",
       "      <td>2001-08-24 00:00:00</td>\n",
       "    </tr>\n",
       "    <tr>\n",
       "      <th>...</th>\n",
       "      <td>...</td>\n",
       "      <td>...</td>\n",
       "      <td>...</td>\n",
       "      <td>...</td>\n",
       "      <td>...</td>\n",
       "      <td>...</td>\n",
       "      <td>...</td>\n",
       "      <td>...</td>\n",
       "      <td>...</td>\n",
       "      <td>...</td>\n",
       "      <td>...</td>\n",
       "      <td>...</td>\n",
       "      <td>...</td>\n",
       "      <td>...</td>\n",
       "      <td>...</td>\n",
       "      <td>...</td>\n",
       "      <td>...</td>\n",
       "      <td>...</td>\n",
       "      <td>...</td>\n",
       "      <td>...</td>\n",
       "      <td>...</td>\n",
       "    </tr>\n",
       "    <tr>\n",
       "      <th>450664</th>\n",
       "      <td>913762</td>\n",
       "      <td>/m/03pcrp</td>\n",
       "      <td>1992-05-21</td>\n",
       "      <td>Elensh</td>\n",
       "      <td>1970-05</td>\n",
       "      <td>F</td>\n",
       "      <td>NaN</td>\n",
       "      <td>NaN</td>\n",
       "      <td>Dorothy Elias-Fahn</td>\n",
       "      <td>NaN</td>\n",
       "      <td>...</td>\n",
       "      <td>/m/0b_vcv</td>\n",
       "      <td>The Super Dimension Fortress Macross II: Lover...</td>\n",
       "      <td>NaN</td>\n",
       "      <td>150.0</td>\n",
       "      <td>{\"/m/03_9r\": \"Japanese Language\"}</td>\n",
       "      <td>{\"/m/03_3d\": \"Japan\"}</td>\n",
       "      <td>{\"/m/06n90\": \"Science Fiction\", \"/m/0gw5n2f\": ...</td>\n",
       "      <td>['Science Fiction', 'Japanese Movies', 'Advent...</td>\n",
       "      <td>1992.0</td>\n",
       "      <td>1992-05-21 00:00:00</td>\n",
       "    </tr>\n",
       "    <tr>\n",
       "      <th>450665</th>\n",
       "      <td>913762</td>\n",
       "      <td>/m/03pcrp</td>\n",
       "      <td>1992-05-21</td>\n",
       "      <td>Hibiki</td>\n",
       "      <td>1965-04-12</td>\n",
       "      <td>M</td>\n",
       "      <td>NaN</td>\n",
       "      <td>NaN</td>\n",
       "      <td>Jonathan Fahn</td>\n",
       "      <td>27.0</td>\n",
       "      <td>...</td>\n",
       "      <td>/m/0bx7_j</td>\n",
       "      <td>The Super Dimension Fortress Macross II: Lover...</td>\n",
       "      <td>NaN</td>\n",
       "      <td>150.0</td>\n",
       "      <td>{\"/m/03_9r\": \"Japanese Language\"}</td>\n",
       "      <td>{\"/m/03_3d\": \"Japan\"}</td>\n",
       "      <td>{\"/m/06n90\": \"Science Fiction\", \"/m/0gw5n2f\": ...</td>\n",
       "      <td>['Science Fiction', 'Japanese Movies', 'Advent...</td>\n",
       "      <td>1992.0</td>\n",
       "      <td>1992-05-21 00:00:00</td>\n",
       "    </tr>\n",
       "    <tr>\n",
       "      <th>450666</th>\n",
       "      <td>28308153</td>\n",
       "      <td>/m/0cp05t9</td>\n",
       "      <td>NaN</td>\n",
       "      <td>NaN</td>\n",
       "      <td>1941-11-18</td>\n",
       "      <td>M</td>\n",
       "      <td>1.730</td>\n",
       "      <td>/m/02w7gg</td>\n",
       "      <td>David Hemmings</td>\n",
       "      <td>15.0</td>\n",
       "      <td>...</td>\n",
       "      <td>/m/022g44</td>\n",
       "      <td>Five Clues to Fortune</td>\n",
       "      <td>NaN</td>\n",
       "      <td>129.0</td>\n",
       "      <td>{\"/m/02h40lc\": \"English Language\"}</td>\n",
       "      <td>{\"/m/07ssc\": \"United Kingdom\"}</td>\n",
       "      <td>{\"/m/0lsxr\": \"Crime Fiction\"}</td>\n",
       "      <td>['Crime Fiction']</td>\n",
       "      <td>NaN</td>\n",
       "      <td>1988.0004269368703</td>\n",
       "    </tr>\n",
       "    <tr>\n",
       "      <th>450667</th>\n",
       "      <td>28308153</td>\n",
       "      <td>/m/0cp05t9</td>\n",
       "      <td>NaN</td>\n",
       "      <td>NaN</td>\n",
       "      <td>NaN</td>\n",
       "      <td>NaN</td>\n",
       "      <td>NaN</td>\n",
       "      <td>NaN</td>\n",
       "      <td>Roberta Paterson</td>\n",
       "      <td>NaN</td>\n",
       "      <td>...</td>\n",
       "      <td>/m/0g8ngmm</td>\n",
       "      <td>Five Clues to Fortune</td>\n",
       "      <td>NaN</td>\n",
       "      <td>129.0</td>\n",
       "      <td>{\"/m/02h40lc\": \"English Language\"}</td>\n",
       "      <td>{\"/m/07ssc\": \"United Kingdom\"}</td>\n",
       "      <td>{\"/m/0lsxr\": \"Crime Fiction\"}</td>\n",
       "      <td>['Crime Fiction']</td>\n",
       "      <td>NaN</td>\n",
       "      <td>1988.0004269368703</td>\n",
       "    </tr>\n",
       "    <tr>\n",
       "      <th>450668</th>\n",
       "      <td>28308153</td>\n",
       "      <td>/m/0cp05t9</td>\n",
       "      <td>NaN</td>\n",
       "      <td>NaN</td>\n",
       "      <td>NaN</td>\n",
       "      <td>NaN</td>\n",
       "      <td>NaN</td>\n",
       "      <td>NaN</td>\n",
       "      <td>John Rogers</td>\n",
       "      <td>NaN</td>\n",
       "      <td>...</td>\n",
       "      <td>/m/0btz19d</td>\n",
       "      <td>Five Clues to Fortune</td>\n",
       "      <td>NaN</td>\n",
       "      <td>129.0</td>\n",
       "      <td>{\"/m/02h40lc\": \"English Language\"}</td>\n",
       "      <td>{\"/m/07ssc\": \"United Kingdom\"}</td>\n",
       "      <td>{\"/m/0lsxr\": \"Crime Fiction\"}</td>\n",
       "      <td>['Crime Fiction']</td>\n",
       "      <td>NaN</td>\n",
       "      <td>1988.0004269368703</td>\n",
       "    </tr>\n",
       "  </tbody>\n",
       "</table>\n",
       "<p>450669 rows × 22 columns</p>\n",
       "</div>"
      ],
      "text/plain": [
       "        Wikipedia_movie_ID Freebase_Movie_ID Movie_release_date  \\\n",
       "0                   975900         /m/03vyhn         2001-08-24   \n",
       "1                   975900         /m/03vyhn         2001-08-24   \n",
       "2                   975900         /m/03vyhn         2001-08-24   \n",
       "3                   975900         /m/03vyhn         2001-08-24   \n",
       "4                   975900         /m/03vyhn         2001-08-24   \n",
       "...                    ...               ...                ...   \n",
       "450664              913762         /m/03pcrp         1992-05-21   \n",
       "450665              913762         /m/03pcrp         1992-05-21   \n",
       "450666            28308153        /m/0cp05t9                NaN   \n",
       "450667            28308153        /m/0cp05t9                NaN   \n",
       "450668            28308153        /m/0cp05t9                NaN   \n",
       "\n",
       "                    Character_name Actor_date_of_birth Actor_gender  \\\n",
       "0                         Akooshay          1958-08-26            F   \n",
       "1       Lieutenant Melanie Ballard          1974-08-15            F   \n",
       "2              Desolation Williams          1969-06-15            M   \n",
       "3               Sgt Jericho Butler          1967-09-12            M   \n",
       "4                  Bashira Kincaid          1977-09-25            F   \n",
       "...                            ...                 ...          ...   \n",
       "450664                      Elensh             1970-05            F   \n",
       "450665                      Hibiki          1965-04-12            M   \n",
       "450666                         NaN          1941-11-18            M   \n",
       "450667                         NaN                 NaN          NaN   \n",
       "450668                         NaN                 NaN          NaN   \n",
       "\n",
       "        Actor_height Actor_ethnicity          Actor_name  \\\n",
       "0              1.620             NaN      Wanda De Jesus   \n",
       "1              1.780      /m/044038p  Natasha Henstridge   \n",
       "2              1.727         /m/0x67            Ice Cube   \n",
       "3              1.750             NaN       Jason Statham   \n",
       "4              1.650             NaN         Clea DuVall   \n",
       "...              ...             ...                 ...   \n",
       "450664           NaN             NaN  Dorothy Elias-Fahn   \n",
       "450665           NaN             NaN       Jonathan Fahn   \n",
       "450666         1.730       /m/02w7gg      David Hemmings   \n",
       "450667           NaN             NaN    Roberta Paterson   \n",
       "450668           NaN             NaN         John Rogers   \n",
       "\n",
       "        Actor_age_at_movie_release  ... Freebase_actor_ID  \\\n",
       "0                             42.0  ...        /m/03wcfv7   \n",
       "1                             27.0  ...         /m/0346l4   \n",
       "2                             32.0  ...        /m/01vw26l   \n",
       "3                             33.0  ...         /m/034hyc   \n",
       "4                             23.0  ...         /m/01y9xg   \n",
       "...                            ...  ...               ...   \n",
       "450664                         NaN  ...         /m/0b_vcv   \n",
       "450665                        27.0  ...         /m/0bx7_j   \n",
       "450666                        15.0  ...         /m/022g44   \n",
       "450667                         NaN  ...        /m/0g8ngmm   \n",
       "450668                         NaN  ...        /m/0btz19d   \n",
       "\n",
       "                                               Movie_name  \\\n",
       "0                                          Ghosts of Mars   \n",
       "1                                          Ghosts of Mars   \n",
       "2                                          Ghosts of Mars   \n",
       "3                                          Ghosts of Mars   \n",
       "4                                          Ghosts of Mars   \n",
       "...                                                   ...   \n",
       "450664  The Super Dimension Fortress Macross II: Lover...   \n",
       "450665  The Super Dimension Fortress Macross II: Lover...   \n",
       "450666                              Five Clues to Fortune   \n",
       "450667                              Five Clues to Fortune   \n",
       "450668                              Five Clues to Fortune   \n",
       "\n",
       "       Movie_box_office_revenue Movie_runtime  \\\n",
       "0                    14010832.0          98.0   \n",
       "1                    14010832.0          98.0   \n",
       "2                    14010832.0          98.0   \n",
       "3                    14010832.0          98.0   \n",
       "4                    14010832.0          98.0   \n",
       "...                         ...           ...   \n",
       "450664                      NaN         150.0   \n",
       "450665                      NaN         150.0   \n",
       "450666                      NaN         129.0   \n",
       "450667                      NaN         129.0   \n",
       "450668                      NaN         129.0   \n",
       "\n",
       "                           Movie_languages  \\\n",
       "0       {\"/m/02h40lc\": \"English Language\"}   \n",
       "1       {\"/m/02h40lc\": \"English Language\"}   \n",
       "2       {\"/m/02h40lc\": \"English Language\"}   \n",
       "3       {\"/m/02h40lc\": \"English Language\"}   \n",
       "4       {\"/m/02h40lc\": \"English Language\"}   \n",
       "...                                    ...   \n",
       "450664   {\"/m/03_9r\": \"Japanese Language\"}   \n",
       "450665   {\"/m/03_9r\": \"Japanese Language\"}   \n",
       "450666  {\"/m/02h40lc\": \"English Language\"}   \n",
       "450667  {\"/m/02h40lc\": \"English Language\"}   \n",
       "450668  {\"/m/02h40lc\": \"English Language\"}   \n",
       "\n",
       "                                  Movie_countries  \\\n",
       "0       {\"/m/09c7w0\": \"United States of America\"}   \n",
       "1       {\"/m/09c7w0\": \"United States of America\"}   \n",
       "2       {\"/m/09c7w0\": \"United States of America\"}   \n",
       "3       {\"/m/09c7w0\": \"United States of America\"}   \n",
       "4       {\"/m/09c7w0\": \"United States of America\"}   \n",
       "...                                           ...   \n",
       "450664                      {\"/m/03_3d\": \"Japan\"}   \n",
       "450665                      {\"/m/03_3d\": \"Japan\"}   \n",
       "450666             {\"/m/07ssc\": \"United Kingdom\"}   \n",
       "450667             {\"/m/07ssc\": \"United Kingdom\"}   \n",
       "450668             {\"/m/07ssc\": \"United Kingdom\"}   \n",
       "\n",
       "                                             Movie_genres  \\\n",
       "0       {\"/m/01jfsb\": \"Thriller\", \"/m/06n90\": \"Science...   \n",
       "1       {\"/m/01jfsb\": \"Thriller\", \"/m/06n90\": \"Science...   \n",
       "2       {\"/m/01jfsb\": \"Thriller\", \"/m/06n90\": \"Science...   \n",
       "3       {\"/m/01jfsb\": \"Thriller\", \"/m/06n90\": \"Science...   \n",
       "4       {\"/m/01jfsb\": \"Thriller\", \"/m/06n90\": \"Science...   \n",
       "...                                                   ...   \n",
       "450664  {\"/m/06n90\": \"Science Fiction\", \"/m/0gw5n2f\": ...   \n",
       "450665  {\"/m/06n90\": \"Science Fiction\", \"/m/0gw5n2f\": ...   \n",
       "450666                      {\"/m/0lsxr\": \"Crime Fiction\"}   \n",
       "450667                      {\"/m/0lsxr\": \"Crime Fiction\"}   \n",
       "450668                      {\"/m/0lsxr\": \"Crime Fiction\"}   \n",
       "\n",
       "                                               genre_list Movie_release_year  \\\n",
       "0       ['Thriller', 'Science Fiction', 'Horror', 'Adv...             2001.0   \n",
       "1       ['Thriller', 'Science Fiction', 'Horror', 'Adv...             2001.0   \n",
       "2       ['Thriller', 'Science Fiction', 'Horror', 'Adv...             2001.0   \n",
       "3       ['Thriller', 'Science Fiction', 'Horror', 'Adv...             2001.0   \n",
       "4       ['Thriller', 'Science Fiction', 'Horror', 'Adv...             2001.0   \n",
       "...                                                   ...                ...   \n",
       "450664  ['Science Fiction', 'Japanese Movies', 'Advent...             1992.0   \n",
       "450665  ['Science Fiction', 'Japanese Movies', 'Advent...             1992.0   \n",
       "450666                                  ['Crime Fiction']                NaN   \n",
       "450667                                  ['Crime Fiction']                NaN   \n",
       "450668                                  ['Crime Fiction']                NaN   \n",
       "\n",
       "       Estimated_release_year  \n",
       "0         2001-08-24 00:00:00  \n",
       "1         2001-08-24 00:00:00  \n",
       "2         2001-08-24 00:00:00  \n",
       "3         2001-08-24 00:00:00  \n",
       "4         2001-08-24 00:00:00  \n",
       "...                       ...  \n",
       "450664    1992-05-21 00:00:00  \n",
       "450665    1992-05-21 00:00:00  \n",
       "450666     1988.0004269368703  \n",
       "450667     1988.0004269368703  \n",
       "450668     1988.0004269368703  \n",
       "\n",
       "[450669 rows x 22 columns]"
      ]
     },
     "execution_count": 3,
     "metadata": {},
     "output_type": "execute_result"
    }
   ],
   "source": [
    "merged_df = pd.read_csv('../merged_df.tsv', sep='\\t')\n",
    "merged_df"
   ]
  },
  {
   "cell_type": "code",
   "execution_count": 4,
   "metadata": {},
   "outputs": [],
   "source": [
    "# Convert the \"Movie release date\" column to datetime and extract the year (as the format of year is not uniform through the column)\n",
    "merged_df['Year'] = pd.to_datetime(merged_df['Movie_release_date'], errors='coerce').dt.year\n",
    "\n",
    "#Estimation of the release year of the films without release data\n",
    "mean_release_year_by_genre = pd.read_csv('../mean_release_year_by_genre.tsv', sep='\\t')\n",
    "merged_df['Estimated_release_year'] = merged_df.apply(estimate_release_year, axis=1, args=(mean_release_year_by_genre,))\n",
    "merged_df['Estimated_release_year'] = pd.to_datetime(merged_df['Estimated_release_year'], errors='coerce').dt.year\n",
    "merged_df['Decade'] = (merged_df['Estimated_release_year'] // 10) * 10"
   ]
  },
  {
   "cell_type": "code",
   "execution_count": 5,
   "metadata": {},
   "outputs": [
    {
     "data": {
      "text/plain": [
       "25700                        Humorous Phases of Funny Faces\n",
       "26339     The Death Disc: A Story of the Cromwellian Period\n",
       "26340     The Death Disc: A Story of the Cromwellian Period\n",
       "26341     The Death Disc: A Story of the Cromwellian Period\n",
       "26342     The Death Disc: A Story of the Cromwellian Period\n",
       "                                ...                        \n",
       "445018                                   The Red Man's View\n",
       "445019                                   The Red Man's View\n",
       "447461                                  Romance of a Jewess\n",
       "447462                                  Romance of a Jewess\n",
       "447463                                  Romance of a Jewess\n",
       "Name: Movie_name, Length: 175, dtype: object"
      ]
     },
     "execution_count": 5,
     "metadata": {},
     "output_type": "execute_result"
    }
   ],
   "source": [
    "films_1900 = merged_df[merged_df['Decade'] == 1900]['Movie_name']\n",
    "films_1900"
   ]
  },
  {
   "cell_type": "code",
   "execution_count": 6,
   "metadata": {},
   "outputs": [
    {
     "data": {
      "text/plain": [
       "['Otello',\n",
       " 'The Call of the Wild',\n",
       " 'The Death Disc: A Story of the Cromwellian Period',\n",
       " 'Macbeth',\n",
       " 'The Assassination of the Duke of Guise',\n",
       " 'The Assassination of the Duke of Guise',\n",
       " 'Fairyland: A Kingdom of Fairies',\n",
       " 'The Call of the Wild',\n",
       " 'Romance of a Jewess',\n",
       " 'Stenka Razin']"
      ]
     },
     "execution_count": 6,
     "metadata": {},
     "output_type": "execute_result"
    }
   ],
   "source": [
    "films_1900_list = films_1900.tolist()\n",
    "random_1900 = random.sample(films_1900_list , 10)\n",
    "random_1900"
   ]
  },
  {
   "cell_type": "code",
   "execution_count": 7,
   "metadata": {},
   "outputs": [
    {
     "data": {
      "text/plain": [
       "['20,000 Leagues Under the Sea',\n",
       " 'The Rise of the Johnsons',\n",
       " 'A Turn of the Cards',\n",
       " 'The Undertow',\n",
       " \"Luke's Double\",\n",
       " 'The Adventurer',\n",
       " 'The Echo',\n",
       " \"Fatty's Wine Party\",\n",
       " \"Mother's Child\",\n",
       " 'Amalia']"
      ]
     },
     "execution_count": 7,
     "metadata": {},
     "output_type": "execute_result"
    }
   ],
   "source": [
    "films_1910 = merged_df[merged_df['Decade'] == 1910]['Movie_name']\n",
    "films_1910_list = films_1910.tolist()\n",
    "random_1910 = random.sample(films_1910_list , 10)\n",
    "random_1910"
   ]
  },
  {
   "cell_type": "code",
   "execution_count": 8,
   "metadata": {},
   "outputs": [
    {
     "data": {
      "text/plain": [
       "['Cab No. 13',\n",
       " \"Men O' War\",\n",
       " 'Ungarische Rhapsodie',\n",
       " 'A Million Bid',\n",
       " 'Rivals',\n",
       " \"You're Darn Tootin\",\n",
       " 'Saturday Morning',\n",
       " 'Thy Name Is Woman',\n",
       " \"My Lady's Lips\",\n",
       " 'Cheaper to Marry']"
      ]
     },
     "execution_count": 8,
     "metadata": {},
     "output_type": "execute_result"
    }
   ],
   "source": [
    "films_1920 = merged_df[merged_df['Decade'] == 1920]['Movie_name']\n",
    "films_1920_list = films_1920.tolist()\n",
    "random_1920 = random.sample(films_1920_list , 10)\n",
    "random_1920"
   ]
  },
  {
   "cell_type": "code",
   "execution_count": 9,
   "metadata": {},
   "outputs": [
    {
     "data": {
      "text/plain": [
       "['Rynox',\n",
       " 'Los Locos del cuarto piso',\n",
       " 'Madame Racketeer',\n",
       " 'Puppets of Fate',\n",
       " 'Three Missing Links',\n",
       " 'Beggars in Ermine',\n",
       " 'Pennies from Heaven',\n",
       " 'His Woman',\n",
       " 'Vogues of 1938',\n",
       " 'Uncivil Warriors']"
      ]
     },
     "execution_count": 9,
     "metadata": {},
     "output_type": "execute_result"
    }
   ],
   "source": [
    "films_1930 = merged_df[merged_df['Decade'] == 1930]['Movie_name']\n",
    "films_1930_list = films_1930.tolist()\n",
    "random_1930 = random.sample(films_1930_list , 10)\n",
    "random_1930"
   ]
  },
  {
   "cell_type": "code",
   "execution_count": 10,
   "metadata": {},
   "outputs": [
    {
     "data": {
      "text/plain": [
       "['House of Dracula',\n",
       " 'Tonight and Every Night',\n",
       " 'The Big Steal',\n",
       " 'X Marks the Spot',\n",
       " \"The Gang's All Here\",\n",
       " 'Undercurrent',\n",
       " 'Micro-Phonies',\n",
       " 'Dead Reckoning',\n",
       " 'I Live on Danger',\n",
       " 'The Gentle Sex']"
      ]
     },
     "execution_count": 10,
     "metadata": {},
     "output_type": "execute_result"
    }
   ],
   "source": [
    "films_1940 = merged_df[merged_df['Decade'] == 1940]['Movie_name']\n",
    "films_1940_list = films_1940.tolist()\n",
    "random_1940 = random.sample(films_1940_list , 10)\n",
    "random_1940"
   ]
  },
  {
   "cell_type": "code",
   "execution_count": 11,
   "metadata": {},
   "outputs": [
    {
     "data": {
      "text/plain": [
       "['Penn',\n",
       " 'The Phantom Stockman',\n",
       " 'Blackboard Jungle',\n",
       " 'Riding with Buffalo Bill',\n",
       " 'The Axe of Wandsbek',\n",
       " 'Circle of Danger',\n",
       " 'Broken Arrow',\n",
       " 'Born Yesterday',\n",
       " 'Spaceways',\n",
       " \"Hobson's Choice\"]"
      ]
     },
     "execution_count": 11,
     "metadata": {},
     "output_type": "execute_result"
    }
   ],
   "source": [
    "films_1950 = merged_df[merged_df['Decade'] == 1950]['Movie_name']\n",
    "films_1950_list = films_1950.tolist()\n",
    "random_1950 = random.sample(films_1950_list , 10)\n",
    "random_1950"
   ]
  },
  {
   "cell_type": "code",
   "execution_count": 12,
   "metadata": {},
   "outputs": [
    {
     "data": {
      "text/plain": [
       "['Uncas, el fin de una raza',\n",
       " 'The Silence',\n",
       " 'Paint Your Wagon',\n",
       " 'Macedonian Blood Wedding',\n",
       " 'The Arch',\n",
       " 'Army of Shadows',\n",
       " 'Sweet Charity',\n",
       " 'A Guide for the Married Man',\n",
       " 'The Sinners of Hell',\n",
       " 'Sunday in New York']"
      ]
     },
     "execution_count": 12,
     "metadata": {},
     "output_type": "execute_result"
    }
   ],
   "source": [
    "films_1960 = merged_df[merged_df['Decade'] == 1960]['Movie_name']\n",
    "films_1960_list = films_1960.tolist()\n",
    "random_1960 = random.sample(films_1960_list , 10)\n",
    "random_1960"
   ]
  },
  {
   "cell_type": "code",
   "execution_count": 13,
   "metadata": {},
   "outputs": [
    {
     "data": {
      "text/plain": [
       "[\"The Concorde...Airport '79\",\n",
       " 'Up From the Depths',\n",
       " 'Dunderklumpen',\n",
       " 'Comme un pot de fraises',\n",
       " 'Death Scream',\n",
       " 'Black Christmas',\n",
       " 'Irony of Fate',\n",
       " \"Churchill's Leopards\",\n",
       " 'American Hot Wax',\n",
       " 'The Rose']"
      ]
     },
     "execution_count": 13,
     "metadata": {},
     "output_type": "execute_result"
    }
   ],
   "source": [
    "films_1970 = merged_df[merged_df['Decade'] == 1970]['Movie_name']\n",
    "films_1970_list = films_1970.tolist()\n",
    "random_1970 = random.sample(films_1970_list , 10)\n",
    "random_1970"
   ]
  },
  {
   "cell_type": "code",
   "execution_count": 14,
   "metadata": {},
   "outputs": [
    {
     "data": {
      "text/plain": [
       "['Duniya',\n",
       " 'Pink Cadillac',\n",
       " 'Pieces',\n",
       " 'Colors',\n",
       " 'Sharara',\n",
       " 'The River',\n",
       " 'Senthoora Poove',\n",
       " 'The Terminator',\n",
       " 'Cocoon: The Return',\n",
       " 'Manevri na petiya etazh']"
      ]
     },
     "execution_count": 14,
     "metadata": {},
     "output_type": "execute_result"
    }
   ],
   "source": [
    "films_1980 = merged_df[merged_df['Decade'] == 1980]['Movie_name']\n",
    "films_1980_list = films_1980.tolist()\n",
    "random_1980 = random.sample(films_1980_list , 10)\n",
    "random_1980"
   ]
  },
  {
   "cell_type": "code",
   "execution_count": 15,
   "metadata": {},
   "outputs": [
    {
     "data": {
      "text/plain": [
       "['Afrodita, el Jardín de Los Perfumes',\n",
       " 'Aftershock: Earthquake in New York',\n",
       " 'The Fugitive',\n",
       " 'The Peacemaker',\n",
       " 'Defenseless',\n",
       " \"She's All That\",\n",
       " 'Men of War',\n",
       " 'The Players Club',\n",
       " 'Surrender Dorothy',\n",
       " 'Falling Down']"
      ]
     },
     "execution_count": 15,
     "metadata": {},
     "output_type": "execute_result"
    }
   ],
   "source": [
    "films_1990 = merged_df[merged_df['Decade'] == 1990]['Movie_name']\n",
    "films_1990_list = films_1990.tolist()\n",
    "random_1990 = random.sample(films_1990_list , 10)\n",
    "random_1990"
   ]
  },
  {
   "cell_type": "code",
   "execution_count": 16,
   "metadata": {},
   "outputs": [
    {
     "data": {
      "text/plain": [
       "['Anjaneyulu',\n",
       " \"Lewd Priest: Playful Writing on a Woman's Body\",\n",
       " 'Chala Bagundi',\n",
       " 'The Merry Gentleman',\n",
       " 'The Baby Doll Night',\n",
       " 'FireDancer',\n",
       " 'Snow Buddies',\n",
       " 'Adieu Gary',\n",
       " '15 Minutes',\n",
       " \"Tomorrow's Memoir\"]"
      ]
     },
     "execution_count": 16,
     "metadata": {},
     "output_type": "execute_result"
    }
   ],
   "source": [
    "films_2000 = merged_df[merged_df['Decade'] == 2000]['Movie_name']\n",
    "films_2000_list = films_2000.tolist()\n",
    "random_2000 = random.sample(films_2000_list , 10)\n",
    "random_2000"
   ]
  },
  {
   "cell_type": "code",
   "execution_count": 17,
   "metadata": {},
   "outputs": [
    {
     "data": {
      "text/plain": [
       "['The Bang Bang Club',\n",
       " 'Super (Symbol)',\n",
       " 'Socialism',\n",
       " \"My Mother's Curse\",\n",
       " 'The Social Network',\n",
       " 'Winter’s Bone',\n",
       " 'Death Bell 2: Bloody Camp',\n",
       " '72 days',\n",
       " 'Love in Space',\n",
       " 'Loot']"
      ]
     },
     "execution_count": 17,
     "metadata": {},
     "output_type": "execute_result"
    }
   ],
   "source": [
    "films_2010 = merged_df[merged_df['Decade'] == 2010]['Movie_name']\n",
    "films_2010_list = films_2010.tolist()\n",
    "random_2010 = random.sample(films_2010_list , 10)\n",
    "random_2010"
   ]
  }
 ],
 "metadata": {
  "kernelspec": {
   "display_name": "ada",
   "language": "python",
   "name": "python3"
  },
  "language_info": {
   "codemirror_mode": {
    "name": "ipython",
    "version": 3
   },
   "file_extension": ".py",
   "mimetype": "text/x-python",
   "name": "python",
   "nbconvert_exporter": "python",
   "pygments_lexer": "ipython3",
   "version": "3.11.10"
  }
 },
 "nbformat": 4,
 "nbformat_mi