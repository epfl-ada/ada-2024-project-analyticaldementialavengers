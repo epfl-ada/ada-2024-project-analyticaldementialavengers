{
 "cells": [
  {
   "cell_type": "markdown",
   "metadata": {},
   "source": [
    "# All useful functions called in `results`"
   ]
  },
  {
   "cell_type": "code",
   "execution_count": 1,
   "metadata": {},
   "outputs": [],
   "source": [
    "import re"
   ]
  },
  {
   "cell_type": "code",
   "execution_count": 2,
   "metadata": {},
   "outputs": [],
   "source": [
    "def extract_string(string):\n",
    "    \"\"\"\n",
    "    Function to extract all words between quotes\n",
    "\n",
    "    Parameters: string (str) - a string containing words between quotes\n",
    "\n",
    "    Returns: between_quotes (list) - a list of words between quotes\n",
    "    \"\"\"\n",
    "    # The re library allows to extract all words between quotes\n",
    "    between_quotes = re.findall(r'\"(.*?)\"', string)\n",
    "    # Suppressing all words starting with /, as they are not country names\n",
    "    for word in between_quotes:\n",
    "        if word[0] == '/':\n",
    "            between_quotes.remove(word)\n",
    "    # Returning the list of words between quotes\n",
    "    return between_quotes"
   ]
  },
  {
   "cell_type": "code",
   "execution_count": 2,
   "metadata": {},
   "outputs": [
    {
     "ename": "NameError",
     "evalue": "name 'pd' is not defined",
     "output_type": "error",
     "traceback": [
      "\u001b[1;31m---------------------------------------------------------------------------\u001b[0m",
      "\u001b[1;31mNameError\u001b[0m                                 Traceback (most recent call last)",
      "Cell \u001b[1;32mIn[2], line 1\u001b[0m\n\u001b[1;32m----> 1\u001b[0m \u001b[38;5;28;01mdef\u001b[39;00m \u001b[38;5;21mestimate_release_year\u001b[39m(row, mean_release_year_by_genre \u001b[38;5;241m=\u001b[39m pd\u001b[38;5;241m.\u001b[39mread_csv(\u001b[38;5;124m'\u001b[39m\u001b[38;5;124msrc/data/mean_release_year_by_genre.tsv\u001b[39m\u001b[38;5;124m'\u001b[39m, sep\u001b[38;5;241m=\u001b[39m\u001b[38;5;124m'\u001b[39m\u001b[38;5;130;01m\\t\u001b[39;00m\u001b[38;5;124m'\u001b[39m)):\n\u001b[0;32m      2\u001b[0m \u001b[38;5;250m    \u001b[39m\u001b[38;5;124;03m\"\"\"\u001b[39;00m\n\u001b[0;32m      3\u001b[0m \u001b[38;5;124;03m    Function to estimate the release year of a movie based on its genres (by taking the average of the release years of movies with the same genres)\u001b[39;00m\n\u001b[0;32m      4\u001b[0m \n\u001b[1;32m   (...)\u001b[0m\n\u001b[0;32m      7\u001b[0m \u001b[38;5;124;03m    Returns: release_year (int) - the estimated release year of the movie\u001b[39;00m\n\u001b[0;32m      8\u001b[0m \u001b[38;5;124;03m    \"\"\"\u001b[39;00m\n\u001b[0;32m      9\u001b[0m     \u001b[38;5;28;01mif\u001b[39;00m pd\u001b[38;5;241m.\u001b[39misna(row[\u001b[38;5;124m'\u001b[39m\u001b[38;5;124mMovie_release_date\u001b[39m\u001b[38;5;124m'\u001b[39m]):\n",
      "\u001b[1;31mNameError\u001b[0m: name 'pd' is not defined"
     ]
    }
   ],
   "source": [
    "def estimate_release_year(row, mean_release_year_by_genre = pd.read_csv('src/data/mean_release_year_by_genre.tsv', sep='\\t')):\n",
    "    \"\"\"\n",
    "    Function to estimate the release year of a movie based on its genres (by taking the average of the release years of movies with the same genres)\n",
    "\n",
    "    Parameters: row (pd.Series) - a row of a pandas DataFrame\n",
    "\n",
    "    Returns: release_year (int) - the estimated release year of the movie\n",
    "    \"\"\"\n",
    "    if pd.isna(row['Movie_release_date']):\n",
    "        genres = row['genre_list']\n",
    "        mean_years = [mean_release_year_by_genre[genre] for genre in genres if genre in mean_release_year_by_genre]\n",
    "        if mean_years:\n",
    "            return sum(mean_years) / len(mean_years)\n",
    "        else:\n",
    "            return pd.NA\n",
    "    else:\n",
    "        return row['Movie_release_date']"
   ]
  },
  {
   "cell_type": "code",
   "execution_count": 4,
   "metadata": {},
   "outputs": [],
   "source": [
    "def count_countries(string):\n",
    "    \"\"\"\n",
    "    Function to count the number of countries in a string\n",
    "\n",
    "    Parameters: string (str) - a string containing countries separated by commas\n",
    "\n",
    "    Returns: country_number (int) - the number of countries\n",
    "    \"\"\"\n",
    "    # Counting of comas in the string\n",
    "    country_number=string.count(',') +1 \n",
    "    # Returning the number of countries\n",
    "    return country_number"
   ]
  },
  {
   "cell_type": "code",
   "execution_count": 5,
   "metadata": {},
   "outputs": [],
   "source": [
    "def is_dict_string(s):\n",
    "    \"\"\"\n",
    "    Vérifie si une chaîne de caractères peut être convertie en dictionnaire.\n",
    "    \n",
    "    Paramètres:\n",
    "    s (str): La chaîne de caractères à vérifier.\n",
    "    \n",
    "    Retourne:\n",
    "    bool: True si la chaîne peut être convertie en dictionnaire, False sinon.\n",
    "    \"\"\"\n",
    "    try:\n",
    "        ast.literal_eval(s)\n",
    "        return True\n",
    "    except (ValueError, SyntaxError):\n",
    "        return False"
   ]
  }
 ],
 "metadata": {
  "kernelspec": {
   "display_name": "ada",
   "language": "python",
   "name": "python3"
  },
  "language_info": {
   "codemirror_mode": {
    "name": "ipython",
    "version": 3
   },
   "file_extension": ".py",
   "mimetype": "text/x-python",
   "name": "python",
   "nbconvert_exporter": "python",
   "pygments_lexer": "ipython3",
   "version": "3.11.9"
  }
 },
 "nbformat": 4,
 "nbformat_minor": 2
}
