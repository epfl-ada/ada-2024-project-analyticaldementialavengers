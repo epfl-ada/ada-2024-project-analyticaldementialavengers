{
 "cells": [
  {
   "cell_type": "markdown",
   "metadata": {},
   "source": [
    "# All useful functions called in `results`"
   ]
  },
  {
   "cell_type": "code",
   "execution_count": 1,
   "metadata": {},
   "outputs": [],
   "source": [
    "import re\n",
    "import pycountry\n",
    "import pycountry_convert as pc\n",
    "#from country_named_entity_recognition import find_countries\n",
    "import requests\n",
    "from bs4 import BeautifulSoup\n",
    "import nltk\n",
    "import pandas as pd\n",
    "import numpy as np"
   ]
  },
  {
   "cell_type": "code",
   "execution_count": 2,
   "metadata": {},
   "outputs": [],
   "source": [
    "def extract_string(string):\n",
    "    \"\"\"\n",
    "    Function to extract all words between quotes\n",
    "\n",
    "    Parameters: string (str) - a string containing words between quotes\n",
    "\n",
    "    Returns: between_quotes (list) - a list of words between quotes\n",
    "    \"\"\"\n",
    "    # The re library allows to extract all words between quotes\n",
    "    between_quotes = re.findall(r'\"(.*?)\"', string)\n",
    "    # Suppressing all words starting with /, as they are not country names\n",
    "    for word in between_quotes:\n",
    "        if word[0] == '/':\n",
    "            between_quotes.remove(word)\n",
    "    # Returning the list of words between quotes\n",
    "    return between_quotes"
   ]
  },
  {
   "cell_type": "code",
   "execution_count": 3,
   "metadata": {},
   "outputs": [],
   "source": [
    "def estimate_release_year(row, mean_release_year_by_genre):\n",
    "    \"\"\"\n",
    "    Function to estimate the release year of a movie based on its genres (by taking the average of the release years of movies with the same genres)\n",
    "\n",
    "    Parameters: row (pd.Series) - a row of a pandas DataFrame\n",
    "\n",
    "    Returns: release_year (int) - the estimated release year of the movie\n",
    "    \"\"\"\n",
    "    if pd.isna(row['Movie_release_date']):\n",
    "        genres = row['genre_list']\n",
    "        mean_years = [mean_release_year_by_genre[genre] for genre in genres if genre in mean_release_year_by_genre]\n",
    "        if mean_years:\n",
    "            return sum(mean_years) / len(mean_years)\n",
    "        else:\n",
    "            return pd.NA\n",
    "    else:\n",
    "        return row['Movie_release_date']"
   ]
  },
  {
   "cell_type": "code",
   "execution_count": 4,
   "metadata": {},
   "outputs": [],
   "source": [
    "def count_countries(string):\n",
    "    \"\"\"\n",
    "    Function to count the number of countries in a string\n",
    "\n",
    "    Parameters: string (str) - a string containing countries separated by commas\n",
    "\n",
    "    Returns: country_number (int) - the number of countries\n",
    "    \"\"\"\n",
    "    # Counting of comas in the string\n",
    "    country_number=string.count(',') +1 \n",
    "    # Returning the number of countries\n",
    "    return country_number"
   ]
  },
  {
   "cell_type": "code",
   "execution_count": 5,
   "metadata": {},
   "outputs": [],
   "source": [
    "def is_dict_string(s):\n",
    "    \"\"\"\n",
    "    Vérifie si une chaîne de caractères peut être convertie en dictionnaire.\n",
    "    \n",
    "    Paramètres:\n",
    "    s (str): La chaîne de caractères à vérifier.\n",
    "    \n",
    "    Retourne:\n",
    "    bool: True si la chaîne peut être convertie en dictionnaire, False sinon.\n",
    "    \"\"\"\n",
    "    try:\n",
    "        ast.literal_eval(s)\n",
    "        return True\n",
    "    except (ValueError, SyntaxError):\n",
    "        return False"
   ]
  },
  {
   "cell_type": "code",
   "execution_count": 6,
   "metadata": {},
   "outputs": [],
   "source": [
    "def get_word_count(url, retries=3, delay=5):\n",
    "    for attempt in range(retries):\n",
    "        response = requests.get(url)\n",
    "        response.raise_for_status()  # Raise an HTTPError for bad responses\n",
    "        soup = BeautifulSoup(response.text, 'html.parser')\n",
    "\n",
    "        # Extract the main content of the page\n",
    "        content = soup.find('div', {'id': 'mw-content-text'})\n",
    "\n",
    "        if content:\n",
    "            # Extract text and remove citations\n",
    "            text = re.sub(r'\\[\\d+\\]', '', content.get_text())\n",
    "            \n",
    "            # Count the number of words\n",
    "            words = text.split()\n",
    "            return len(words)\n",
    "        else:\n",
    "            return None\n"
   ]
  },
  {
   "cell_type": "code",
   "execution_count": 7,
   "metadata": {},
   "outputs": [],
   "source": [
    "# Function to preprocess event labels\n",
    "def preprocess_text(text):\n",
    "    text = text.lower()\n",
    "    text = re.sub(r'\\W+', ' ', text)  # Remove non-alphanumeric characters\n",
    "    return text"
   ]
  },
  {
   "cell_type": "code",
   "execution_count": 1,
   "metadata": {},
   "outputs": [],
   "source": [
    "def text_split(text) :\n",
    "\n",
    "    #Remove from text all punctuations\n",
    "    text = re.sub(r'[^\\w\\s]', '', text)\n",
    "\n",
    "    #Tokenise the text in words and convert in small letters\n",
    "    words = word_tokenize(text)\n",
    "    \n",
    "    #Filter the words depending on their grammatical class\n",
    "    \n",
    "    text_splited = []\n",
    "\n",
    "    for word in words:\n",
    "\n",
    "        #Find the grammatical class (pos) of a word and tag it with it\n",
    "        pos = pos_tag([word])[0][1]\n",
    "        #Keep only the nouns (singular and plural)\n",
    "        if pos in ['NN', 'NNS']: #and word not in stop_words:\n",
    "            text_splited.append(word)\n",
    "    \n",
    "    return text_splited"
   ]
  },
  {
   "cell_type": "code",
   "execution_count": 2,
   "metadata": {},
   "outputs": [],
   "source": [
    "def bag_of_words(text_splited) : \n",
    "    \n",
    "    #Create a dictionary mapping each word to a unique id\n",
    "    dictionary = Dictionary([text_splited])\n",
    "    \n",
    "    \n",
    "    corpus = dictionary.doc2bow(text_splited)\n",
    "    \n",
    "    return corpus, dictionary"
   ]
  },
  {
   "cell_type": "code",
   "execution_count": 3,
   "metadata": {},
   "outputs": [],
   "source": [
    "def lda(df_line) : \n",
    "    corpus, dictionary = df_line['corpus']\n",
    "    \n",
    "    lda_model = LdaModel([corpus], num_topics=1, id2word=dictionary)\n",
    "    return lda_model"
   ]
  },
  {
   "cell_type": "code",
   "execution_count": 4,
   "metadata": {},
   "outputs": [],
   "source": [
    "def get_topics(lda_model):\n",
    "\n",
    "    #Provide 50 words that are the most common in the given set\n",
    "    return lda_model.show_topics(num_topics=1, num_words=50, formatted=True)\n",
    "    \n",
    "    topic_words = []\n",
    "\n",
    "    for topic in topics:\n",
    "        for word, freq in topic[1]:\n",
    "            topic_words.append({'topic': topic[0], 'word': word, 'frequency': freq})\n",
    "\n",
    "    return topic_words"
   ]
  },
  {
   "cell_type": "code",
   "execution_count": 5,
   "metadata": {},
   "outputs": [],
   "source": [
    "def extract(data):\n",
    "\n",
    "    serie = data[0][0][1] \n",
    "    \n",
    "    #Get the words and their weight from the serie\n",
    "    matches = re.findall(r'([\\d.]+)\\*\"(.*?)\"', serie) \n",
    "    freq_df = pd.DataFrame(matches, columns=[\"freq\", \"word\"])\n",
    "\n",
    "    #Convert the frequency in floats\n",
    "    freq_df[\"freq\"] = freq_df[\"freq\"].astype(float) \n",
    "    \n",
    "    return freq_df"
   ]
  },
  {
   "cell_type": "code",
   "execution_count": 13,
   "metadata": {},
   "outputs": [],
   "source": [
    "def text_split_new(text) :\n",
    "\n",
    "    #Initialize a set of frequent and not relevent words in english\n",
    "    #stop_words = set(stopwords.words('english'))\n",
    "\n",
    "    #Remove from text all punctuations\n",
    "    text = re.sub(r'[^\\w\\s]', '', text)\n",
    "    \n",
    "\n",
    "    #Tokenise the text in words and convert in small letters\n",
    "    words = word_tokenize(text)\n",
    "    \n",
    "    #Filter the words depending on their grammatical class\n",
    "    \n",
    "    text_splited = []\n",
    "\n",
    "    for word in words:\n",
    "\n",
    "        #Find the grammatical class (pos) of a word and tag it with it\n",
    "        pos = pos_tag([word])[0][1]\n",
    "        #Keep only the nouns (singular and plural)\n",
    "        if pos in ['NN', 'NNS']: #and word not in stop_words:\n",
    "            text_splited.append(word)\n",
    "    \n",
    "    return text_splited"
   ]
  },
  {
   "cell_type": "code",
   "execution_count": 14,
   "metadata": {},
   "outputs": [],
   "source": [
    "def lda_new(df_line):\n",
    "    corpus, dictionary = df_line  # Unpacking the tuple directly\n",
    "    lda_model = LdaModel([corpus], num_topics=1, id2word=dictionary)\n",
    "    return lda_model"
   ]
  },
  {
   "cell_type": "code",
   "execution_count": 15,
   "metadata": {},
   "outputs": [],
   "source": [
    "\n",
    "def get_topics_new(lda_model):\n",
    "    #provid fifty words belonging to a single topic\n",
    "    return lda_model.show_topics(num_topics=1, num_words=50, formatted=True)\n"
   ]
  },
  {
   "cell_type": "code",
   "execution_count": 16,
   "metadata": {},
   "outputs": [],
   "source": [
    "def extract_new(topics_tuple):\n",
    "    topics = []\n",
    "    \n",
    "    #Get the words and their weight from the serie\n",
    "    pattern = re.compile(r'(\\d+\\.\\d+)\\*\"(.*?)\"')\n",
    "    for topic_id, topics_str in topics_tuple:\n",
    "        matches = pattern.findall(topics_str)\n",
    "        for match in matches:\n",
    "            freq = float(match[0]) #Convert the frequency in floats\n",
    "            word = match[1]\n",
    "            topics.append((word, freq))\n",
    "    return topics"
   ]
  },
  {
   "cell_type": "code",
   "execution_count": 17,
   "metadata": {},
   "outputs": [],
   "source": [
    "# Function to read and preprocess text data\n",
    "def read_and_preprocess(file_path):\n",
    "    \"\"\"\n",
    "    Reads a text file, removes newline characters, and tokenizes it into sentences.\n",
    "    \n",
    "    Args:\n",
    "        file_path (str): Path to the input text file.\n",
    "    \n",
    "    Returns:\n",
    "        list: A list of stripped sentences.\n",
    "    \"\"\"\n",
    "    with open(file_path, 'r', encoding='utf-8') as file:\n",
    "        text = file.read()\n",
    "        text=text.replace('\\n','')\n",
    "\n",
    "    # Tokenize the text into sentences using NLTK\n",
    "    sentences = nltk.sent_tokenize(text)  \n",
    "    return [sentence.strip() for sentence in sentences if sentence.strip()] "
   ]
  },
  {
   "cell_type": "code",
   "execution_count": 6,
   "metadata": {},
   "outputs": [],
   "source": [
    "def LDA_applicator(summaries):\n",
    "\n",
    "    #Group the summaries of one decade together\n",
    "    all_summaries = summaries[0].str.cat(sep=' ')\n",
    "    summary_df = pd.DataFrame({\"summary\": [all_summaries]})\n",
    "\n",
    "    #Process and apply the LDA on the summaries\n",
    "    summary_df['split'] = summary_df['summary'].apply(text_split)\n",
    "    summary_df['corpus'] = summary_df['split'].apply(bag_of_words)\n",
    "    summary_df['lda'] = summary_df.apply(lda, axis=1)\n",
    "    \n",
    "    #Extract the words and their frequenciesin a DataFrane\n",
    "    word_freq = summary_df['lda'].apply(get_topics)\n",
    "    topics = extract(word_freq)\n",
    "    topics.set_index('word', inplace=True)\n",
    "    return topics"
   ]
  },
  {
   "cell_type": "code",
   "execution_count": 7,
   "metadata": {},
   "outputs": [],
   "source": [
    "def LDA_plots(topic, decade):\n",
    "    \n",
    "    #Plotting in the form of barplots\n",
    "    plt.figure(figsize=(10, 6))\n",
    "    topic.plot(kind='bar', legend=False)\n",
    "\n",
    "    plt.title('Most common words in summaries of films in the ' + decade +'s')\n",
    "    plt.xlabel('Words')\n",
    "    plt.ylabel('Frequency')\n",
    "\n",
    "    #To extract the barplot, uncomment this line:\n",
    "    #plt.savefig(f'LDA_barplot_{decade}.png', dpi=300, bbox_inches='tight')\n",
    "    plt.show()\n",
    "\n",
    "    #Plotting in the form of word clouds\n",
    "    wordcloud = WordCloud(width=800, height=400, background_color='white', colormap='viridis').generate_from_frequencies(topic['freq'])\n",
    "\n",
    "    plt.figure(figsize=(10, 6))\n",
    "    plt.imshow(wordcloud, interpolation='bilinear')\n",
    "    plt.axis('off')  \n",
    "    plt.title('Word Cloud of most common words in the ' + decade+ 's')\n",
    "    \n",
    "    #To extract the wordcloud, uncomment this line:\n",
    "    #plt.savefig(f'LDA_wordcloud_{decade}.png', dpi=300, bbox_inches='tight')\n",
    "    plt.show()"
   ]
  },
  {
   "cell_type": "code",
   "execution_count": null,
   "metadata": {},
   "outputs": [],
   "source": [
    "def read_and_preprocess_per_movie(file_path, column_index=0, delimiter='\\n'):\n",
    "    with open(file_path, 'r', encoding='utf-8') as file:\n",
    "        movies_summary = [line.strip() for line in file.readlines() if line.strip()] \n",
    "    return movies_summary"
   ]
  },
  {
   "cell_type": "code",
   "execution_count": 8,
   "metadata": {},
   "outputs": [],
   "source": [
    "def export_clusters_and_pca(embeddings, movies, decade, n_clusters=3):\n",
    "    #Clustering the movies\n",
    "    kmeans = KMeans(n_clusters=n_clusters, random_state=42)\n",
    "    cluster_labels = kmeans.fit_predict(embeddings.cpu().numpy())\n",
    "\n",
    "    #Extracting the index of the movies in the cluster\n",
    "    clustered_movies = {i: [] for i in range(n_clusters)}\n",
    "    for idx, cluster_id in enumerate(cluster_labels):\n",
    "        clustered_movies[cluster_id].append(movies[idx])\n",
    "\n",
    "    movie_per_cluster = ''\n",
    "    for cluster_id, cluster in clustered_movies.items():\n",
    "        for mov in cluster:\n",
    "            movie_per_cluster += mov\n",
    "        movie_per_cluster += '\\n'\n",
    "    \n",
    "    with open(f'extraction_test/clusters_per_movie_{decade}.txt', \"w\") as file:\n",
    "        file.write(movie_per_cluster)\n",
    "\n",
    "    #Extracting the PCA\n",
    "    pca = PCA(n_components=2)\n",
    "    pca_embeddings = pca.fit_transform(embeddings.cpu().numpy())\n",
    "    pca_df = pd.DataFrame(pca_embeddings, columns=['PCA Component 1', 'PCA Component 2'])\n",
    "    pca_df.to_csv(f'extraction_test/pca_{decade}.csv', index=False)"
   ]
  },
  {
   "cell_type": "code",
   "execution_count": 9,
   "metadata": {},
   "outputs": [],
   "source": [
    "def plot_clusters_and_pca(embeddings, decade, cluster_names, n_clusters=3):\n",
    "\n",
    "    #Clustering the movies\n",
    "    kmeans = KMeans(n_clusters=n_clusters, random_state=42)\n",
    "    cluster_labels = kmeans.fit_predict(embeddings.cpu().numpy())\n",
    "\n",
    "    #Apply the PCA\n",
    "    pca = PCA(n_components=2)\n",
    "    pca_embeddings = pca.fit_transform(embeddings.cpu().numpy())\n",
    "\n",
    "    #Plotting the PCA with the clustering, using the names found with LLAMa\n",
    "    plt.figure(figsize=(10, 6))\n",
    "    for cluster in range(n_clusters):\n",
    "        cluster_points = pca_embeddings[cluster_labels == cluster]\n",
    "        plt.scatter(cluster_points[:, 0], cluster_points[:, 1], label=f'{cluster_names[cluster]}' )\n",
    "\n",
    "    plt.title(f'Clusters of {decade}s Movies')\n",
    "    plt.xlabel('PCA Component 1')\n",
    "    plt.ylabel('PCA Component 2')\n",
    "    plt.legend()\n",
    "    plt.show()"
   ]
  }
 ],
 "metadata": {
  "kernelspec": {
   "display_name": "Python 3 (ipykernel)",
   "language": "python",
   "name": "python3"
  },
  "language_info": {
   "codemirror_mode": {
    "name": "ipython",
    "version": 3
   },
   "file_extension": ".py",
   "mimetype": "text/x-python",
   "name": "python",
   "nbconvert_exporter": "python",
   "pygments_lexer": "ipython3",
   "version": "3.11.10"
  }
 },
 "nbformat": 4,
 "nbformat_minor": 4
}
