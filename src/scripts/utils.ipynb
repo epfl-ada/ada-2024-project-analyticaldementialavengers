{
 "cells": [
  {
   "cell_type": "markdown",
   "metadata": {},
   "source": [
    "# All useful functions called in `results`"
   ]
  },
  {
   "cell_type": "code",
   "execution_count": null,
   "metadata": {},
   "outputs": [],
   "source": [
    "import re\n",
    "import pycountry\n",
    "import pycountry_convert as pc\n",
    "#from country_named_entity_recognition import find_countries\n",
    "import requests\n",
    "from bs4 import BeautifulSoup\n",
    "import nltk\n",
    "import pandas as pd\n",
    "import numpy as np"
   ]
  },
  {
   "cell_type": "code",
   "execution_count": 2,
   "metadata": {},
   "outputs": [],
   "source": [
    "def extract_string(string):\n",
    "    \"\"\"\n",
    "    Function to extract all words between quotes\n",
    "\n",
    "    Parameters: string (str) - a string containing words between quotes\n",
    "\n",
    "    Returns: between_quotes (list) - a list of words between quotes\n",
    "    \"\"\"\n",
    "    # The re library allows to extract all words between quotes\n",
    "    between_quotes = re.findall(r'\"(.*?)\"', string)\n",
    "    # Suppressing all words starting with /, as they are not country names\n",
    "    for word in between_quotes:\n",
    "        if word[0] == '/':\n",
    "            between_quotes.remove(word)\n",
    "    # Returning the list of words between quotes\n",
    "    return between_quotes"
   ]
  },
  {
   "cell_type": "code",
   "execution_count": 3,
   "metadata": {},
   "outputs": [],
   "source": [
    "def estimate_release_year(row, mean_release_year_by_genre):\n",
    "    \"\"\"\n",
    "    Function to estimate the release year of a movie based on its genres (by taking the average of the release years of movies with the same genres)\n",
    "\n",
    "    Parameters: row (pd.Series) - a row of a pandas DataFrame\n",
    "\n",
    "    Returns: release_year (int) - the estimated release year of the movie\n",
    "    \"\"\"\n",
    "    if pd.isna(row['Movie_release_date']):\n",
    "        genres = row['genre_list']\n",
    "        mean_years = [mean_release_year_by_genre[genre] for genre in genres if genre in mean_release_year_by_genre]\n",
    "        if mean_years:\n",
    "            return sum(mean_years) / len(mean_years)\n",
    "        else:\n",
    "            return pd.NA\n",
    "    else:\n",
    "        return row['Movie_release_date']"
   ]
  },
  {
   "cell_type": "code",
   "execution_count": 4,
   "metadata": {},
   "outputs": [],
   "source": [
    "def count_countries(string):\n",
    "    \"\"\"\n",
    "    Function to count the number of countries in a string\n",
    "\n",
    "    Parameters: string (str) - a string containing countries separated by commas\n",
    "\n",
    "    Returns: country_number (int) - the number of countries\n",
    "    \"\"\"\n",
    "    # Counting of comas in the string\n",
    "    country_number=string.count(',') +1 \n",
    "    # Returning the number of countries\n",
    "    return country_number"
   ]
  },
  {
   "cell_type": "code",
   "execution_count": 5,
   "metadata": {},
   "outputs": [],
   "source": [
    "def is_dict_string(s):\n",
    "    \"\"\"\n",
    "    Vérifie si une chaîne de caractères peut être convertie en dictionnaire.\n",
    "    \n",
    "    Paramètres:\n",
    "    s (str): La chaîne de caractères à vérifier.\n",
    "    \n",
    "    Retourne:\n",
    "    bool: True si la chaîne peut être convertie en dictionnaire, False sinon.\n",
    "    \"\"\"\n",
    "    try:\n",
    "        ast.literal_eval(s)\n",
    "        return True\n",
    "    except (ValueError, SyntaxError):\n",
    "        return False"
   ]
  },
  {
   "cell_type": "code",
   "execution_count": 6,
   "metadata": {},
   "outputs": [],
   "source": [
    "def country_to_continent(country_name):\n",
    "    try:\n",
    "        # Use pycountry to lookup alpha2 code, then map to continent\n",
    "        country = pycountry.countries.lookup(country_name)\n",
    "        country_alpha2 = country.alpha_2\n",
    "        country_continent_code = pc.country_alpha2_to_continent_code(country_alpha2)\n",
    "        country_continent_name = pc.convert_continent_code_to_continent_name(country_continent_code)\n",
    "        return country_continent_name\n",
    "    except LookupError:\n",
    "        print(f\"Country not found: {country_name}\")\n",
    "        return None\n",
    "    except Exception as e:\n",
    "        print(f\"Error converting country to continent: {country_name}, {e}\")\n",
    "        return None"
   ]
  },
  {
   "cell_type": "code",
   "execution_count": 7,
   "metadata": {},
   "outputs": [],
   "source": [
    "def get_word_count(url, retries=3, delay=5):\n",
    "    for attempt in range(retries):\n",
    "        response = requests.get(url)\n",
    "        response.raise_for_status()  # Raise an HTTPError for bad responses\n",
    "        soup = BeautifulSoup(response.text, 'html.parser')\n",
    "\n",
    "        # Extract the main content of the page\n",
    "        content = soup.find('div', {'id': 'mw-content-text'})\n",
    "\n",
    "        if content:\n",
    "            # Extract text and remove citations\n",
    "            text = re.sub(r'\\[\\d+\\]', '', content.get_text())\n",
    "            \n",
    "            # Count the number of words\n",
    "            words = text.split()\n",
    "            return len(words)\n",
    "        else:\n",
    "            return None\n"
   ]
  },
  {
   "cell_type": "code",
   "execution_count": 8,
   "metadata": {},
   "outputs": [],
   "source": [
    "# Function to preprocess event labels\n",
    "def preprocess_text(text):\n",
    "    text = text.lower()\n",
    "    text = re.sub(r'\\W+', ' ', text)  # Remove non-alphanumeric characters\n",
    "    return text"
   ]
  },
  {
   "cell_type": "code",
   "execution_count": 9,
   "metadata": {},
   "outputs": [],
   "source": [
    "# Function to get the best matching countries\n",
    "def get_countries(event, country_names, dict_countries):\n",
    "    event = preprocess_text(event)\n",
    "    countries = set()\n",
    "    \n",
    "    # Check for exact matches with country names\n",
    "    for country in country_names:\n",
    "        if country.lower() in event:\n",
    "            countries.add(country)\n",
    "    \n",
    "    # Check for matches with demonyms\n",
    "    for country, country_list in dict_countries.items():\n",
    "        if country in event:\n",
    "            countries.update(country_list)\n",
    "    \n",
    "    return sorted(countries)"
   ]
  },
  {
   "cell_type": "code",
   "execution_count": 10,
   "metadata": {},
   "outputs": [],
   "source": [
    "def text_split(text) :\n",
    "\n",
    "    #Remove from text all punctuations\n",
    "    text = re.sub(r'[^\\w\\s]', '', text)\n",
    "    \n",
    "    #Tokenise the text in words and convert in small letters\n",
    "    words = word_tokenize(text)\n",
    "    \n",
    "    #Filter the words depending on their grammatical class\n",
    "    \n",
    "    text_splited = []\n",
    "\n",
    "    for word in words:\n",
    "\n",
    "        #Find the grammatical class (pos) of a word and tag it with it\n",
    "        pos = pos_tag([word])[0][1]\n",
    "        #Keep only the nouns (singular and plural)\n",
    "        if pos in ['NN', 'NNS']: #and word not in stop_words:\n",
    "            text_splited.append(word)\n",
    "    \n",
    "    return text_splited"
   ]
  },
  {
   "cell_type": "code",
   "execution_count": 11,
   "metadata": {},
   "outputs": [],
   "source": [
    "def bag_of_words(text_splited) : \n",
    "    \n",
    "    #Create a dictionary mapping each word to a unique id\n",
    "    dictionary = Dictionary([text_splited])\n",
    "    \n",
    "    \n",
    "    corpus = dictionary.doc2bow(text_splited)\n",
    "    \n",
    "    return corpus, dictionary"
   ]
  },
  {
   "cell_type": "code",
   "execution_count": 12,
   "metadata": {},
   "outputs": [],
   "source": [
    "def lda(df_line) : \n",
    "    corpus, dictionary = df_line['corpus']\n",
    "    \n",
    "    lda_model = LdaModel([corpus], num_topics=1, id2word=dictionary)\n",
    "    return lda_model"
   ]
  },
  {
   "cell_type": "code",
   "execution_count": 13,
   "metadata": {},
   "outputs": [],
   "source": [
    "def get_topics(lda_model):\n",
    "    \n",
    "    #provid fifty words belonging to a single topic\n",
    "    return lda_model.show_topics(num_topics=1, num_words=50, formatted=True)\n",
    "    \n",
    "    topic_words = []\n",
    "\n",
    "    for topic in topics:\n",
    "        for word, freq in topic[1]:\n",
    "            topic_words.append({'topic': topic[0], 'word': word, 'frequency': freq})\n",
    "\n",
    "    return topic_words"
   ]
  },
  {
   "cell_type": "code",
   "execution_count": 14,
   "metadata": {},
   "outputs": [],
   "source": [
    "def extract(data):\n",
    "\n",
    "    serie = data[0][0][1] \n",
    "    \n",
    "    #Get the words and their weight from the serie\n",
    "    matches = re.findall(r'([\\d.]+)\\*\"(.*?)\"', serie) \n",
    "    freq_df = pd.DataFrame(matches, columns=[\"freq\", \"word\"])\n",
    "\n",
    "    #Convert the frequency in floats\n",
    "    freq_df[\"freq\"] = freq_df[\"freq\"].astype(float) \n",
    "    \n",
    "    return freq_df"
   ]
  },
  {
   "cell_type": "code",
   "execution_count": 15,
   "metadata": {},
   "outputs": [],
   "source": [
    "def text_split_new(text) :\n",
    "\n",
    "    #Initialize a set of frequent and not relevent words in english\n",
    "    #stop_words = set(stopwords.words('english'))\n",
    "\n",
    "    #Remove from text all punctuations\n",
    "    text = re.sub(r'[^\\w\\s]', '', text)\n",
    "    \n",
    "\n",
    "    #Tokenise the text in words and convert in small letters\n",
    "    words = word_tokenize(text)\n",
    "    \n",
    "    #Filter the words depending on their grammatical class\n",
    "    \n",
    "    text_splited = []\n",
    "\n",
    "    for word in words:\n",
    "\n",
    "        #Find the grammatical class (pos) of a word and tag it with it\n",
    "        pos = pos_tag([word])[0][1]\n",
    "        #Keep only the nouns (singular and plural)\n",
    "        if pos in ['NN', 'NNS']: #and word not in stop_words:\n",
    "            text_splited.append(word)\n",
    "    \n",
    "    return text_splited"
   ]
  },
  {
   "cell_type": "code",
   "execution_count": 16,
   "metadata": {},
   "outputs": [],
   "source": [
    "def lda_new(df_line):\n",
    "    corpus, dictionary = df_line  # Unpacking the tuple directly\n",
    "    lda_model = LdaModel([corpus], num_topics=1, id2word=dictionary)\n",
    "    return lda_model"
   ]
  },
  {
   "cell_type": "code",
   "execution_count": 17,
   "metadata": {},
   "outputs": [],
   "source": [
    "\n",
    "def get_topics_new(lda_model):\n",
    "    #provid fifty words belonging to a single topic\n",
    "    return lda_model.show_topics(num_topics=1, num_words=50, formatted=True)\n"
   ]
  },
  {
   "cell_type": "code",
   "execution_count": 18,
   "metadata": {},
   "outputs": [],
   "source": [
    "def extract_new(topics_tuple):\n",
    "    topics = []\n",
    "    \n",
    "    #Get the words and their weight from the serie\n",
    "    pattern = re.compile(r'(\\d+\\.\\d+)\\*\"(.*?)\"')\n",
    "    for topic_id, topics_str in topics_tuple:\n",
    "        matches = pattern.findall(topics_str)\n",
    "        for match in matches:\n",
    "            freq = float(match[0]) #Convert the frequency in floats\n",
    "            word = match[1]\n",
    "            topics.append((word, freq))\n",
    "    return topics"
   ]
  },
  {
   "cell_type": "code",
   "execution_count": null,
   "metadata": {},
   "outputs": [],
   "source": [
    "# Function to read and preprocess text data\n",
    "def read_and_preprocess(file_path):\n",
    "    \"\"\"\n",
    "    Reads a text file, removes newline characters, and tokenizes it into sentences.\n",
    "    \n",
    "    Args:\n",
    "        file_path (str): Path to the input text file.\n",
    "    \n",
    "    Returns:\n",
    "        list: A list of stripped sentences.\n",
    "    \"\"\"\n",
    "    with open(file_path, 'r', encoding='utf-8') as file:\n",
    "        text = file.read()\n",
    "        text=text.replace('\\n','')\n",
    "\n",
    "    # Tokenize the text into sentences using NLTK\n",
    "    sentences = nltk.sent_tokenize(text)  \n",
    "    return [sentence.strip() for sentence in sentences if sentence.strip()] "
   ]
  },
  {
   "cell_type": "code",
   "execution_count": null,
   "metadata": {},
   "outputs": [],
   "source": [
    "def extract_higher_correlations(decade, threshold):\n",
    "    \"\"\"\n",
    "    Processes higher correlations for a given decade.\n",
    "\n",
    "    Args:\n",
    "        decade (int): The decade to process.\n",
    "        threshold (float): The minimum correlation value to include.\n",
    "\n",
    "    Returns:\n",
    "        list: A list of dictionaries containing the decade, clusters, and correlation values that exceed the threshold.\n",
    "    \"\"\"\n",
    "    \n",
    "    file_path = f'src/data/heatmaps_data/heatmap_data_{decade}.csv'\n",
    "    df = pd.read_csv(file_path, index_col=0)\n",
    "\n",
    "    # Convert all columns to numeric, handling errors\n",
    "    df = df.apply(pd.to_numeric, errors='coerce')\n",
    "\n",
    "    # Flatten the dataframe and filter correlations greater than the threshold\n",
    "    filtered_df = df.stack()\n",
    "    filtered_df = filtered_df[filtered_df > threshold]\n",
    "\n",
    "    # Create a list of dictionaries with the results\n",
    "    correlations = [\n",
    "        {\n",
    "            'Decade': decade,\n",
    "            'Movies cluster': row_label,\n",
    "            'History cluster': col_label,\n",
    "            'Correlation': correlation_value\n",
    "        }\n",
    "        for (row_label, col_label), correlation_value in filtered_df.items()\n",
    "    ]\n",
    "\n",
    "    return correlations"
   ]
  },
  {
   "cell_type": "code",
   "execution_count": null,
   "metadata": {},
   "outputs": [],
   "source": [
    "def extract_max_similarity(decade):\n",
    "    \"\"\"\n",
    "    Extract the maximum similarity for a given decade.\n",
    "\n",
    "    Args:\n",
    "        decade (int): The decade to process.\n",
    "\n",
    "    Returns:\n",
    "        dict: A dictionary containing the decade, the history cluster name with the maximum similarity, and the similarity value.\n",
    "    \"\"\"\n",
    "    \n",
    "    file_path = f'src/data/max_similarity_plots_data/bar_plot_data_{decade}.csv'\n",
    "    df = pd.read_csv(file_path, index_col=0)\n",
    "\n",
    "    # Convert data to numeric, handling any errors\n",
    "    df = df.apply(pd.to_numeric, errors='coerce')\n",
    "\n",
    "    # Find the maximum similarity value\n",
    "    max_value = df.max().max()\n",
    "\n",
    "    # Locate the row and column labels for the maximum value\n",
    "    row_label, col_label = np.unravel_index(df.values.argmax(), df.shape)\n",
    "\n",
    "    # Return a dictionary with the result\n",
    "    return {\n",
    "        'Decade': decade,\n",
    "        'History cluster': df.index[row_label],\n",
    "        'Similarity': max_value\n",
    "    }\n"
   ]
  }
 ],
 "metadata": {
  "kernelspec": {
   "display_name": "ada",
   "language": "python",
   "name": "python3"
  },
  "language_info": {
   "codemirror_mode": {
    "name": "ipython",
    "version": 3
   },
   "file_extension": ".py",
   "mimetype": "text/x-python",
   "name": "python",
   "nbconvert_exporter": "python",
   "pygments_lexer": "ipython3",
   "version": "3.11.9"
  }
 },
 "nbformat": 4,
 "nbformat_minor": 4
}
