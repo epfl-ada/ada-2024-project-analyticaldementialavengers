{
 "cells": [
  {
   "cell_type": "markdown",
   "metadata": {},
   "source": [
    "# All useful functions called in `results`"
   ]
  },
  {
   "cell_type": "code",
   "execution_count": 3,
   "metadata": {},
   "outputs": [],
   "source": [
    "import re"
   ]
  },
  {
   "cell_type": "code",
   "execution_count": 4,
   "metadata": {},
   "outputs": [],
   "source": [
    "def extract_string(string):\n",
    "    \"\"\"\n",
    "    Function to extract all words between quotes\n",
    "\n",
    "    Parameters: string (str) - a string containing words between quotes\n",
    "\n",
    "    Returns: between_quotes (list) - a list of words between quotes\n",
    "    \"\"\"\n",
    "    # The re library allows to extract all words between quotes\n",
    "    between_quotes = re.findall(r'\"(.*?)\"', string)\n",
    "    # Suppressing all words starting with /, as they are not country names\n",
    "    for word in between_quotes:\n",
    "        if word[0] == '/':\n",
    "            between_quotes.remove(word)\n",
    "    # Returning the list of words between quotes\n",
    "    return between_quotes"
   ]
  },
  {
   "cell_type": "code",
   "execution_count": 5,
   "metadata": {},
   "outputs": [],
   "source": [
    "def estimate_release_year(row, mean_release_year_by_genre):\n",
    "    \"\"\"\n",
    "    Function to estimate the release year of a movie based on its genres (by taking the average of the release years of movies with the same genres)\n",
    "\n",
    "    Parameters: row (pd.Series) - a row of a pandas DataFrame\n",
    "\n",
    "    Returns: release_year (int) - the estimated release year of the movie\n",
    "    \"\"\"\n",
    "    if pd.isna(row['Movie_release_date']):\n",
    "        genres = row['genre_list']\n",
    "        mean_years = [mean_release_year_by_genre[genre] for genre in genres if genre in mean_release_year_by_genre]\n",
    "        if mean_years:\n",
    "            return sum(mean_years) / len(mean_years)\n",
    "        else:\n",
    "            return pd.NA\n",
    "    else:\n",
    "        return row['Movie_release_date']"
   ]
  },
  {
   "cell_type": "code",
   "execution_count": 6,
   "metadata": {},
   "outputs": [],
   "source": [
    "def count_countries(string):\n",
    "    \"\"\"\n",
    "    Function to count the number of countries in a string\n",
    "\n",
    "    Parameters: string (str) - a string containing countries separated by commas\n",
    "\n",
    "    Returns: country_number (int) - the number of countries\n",
    "    \"\"\"\n",
    "    # Counting of comas in the string\n",
    "    country_number=string.count(',') +1 \n",
    "    # Returning the number of countries\n",
    "    return country_number"
   ]
  },
  {
   "cell_type": "code",
   "execution_count": 7,
   "metadata": {},
   "outputs": [],
   "source": [
    "def is_dict_string(s):\n",
    "    \"\"\"\n",
    "    Vérifie si une chaîne de caractères peut être convertie en dictionnaire.\n",
    "    \n",
    "    Paramètres:\n",
    "    s (str): La chaîne de caractères à vérifier.\n",
    "    \n",
    "    Retourne:\n",
    "    bool: True si la chaîne peut être convertie en dictionnaire, False sinon.\n",
    "    \"\"\"\n",
    "    try:\n",
    "        ast.literal_eval(s)\n",
    "        return True\n",
    "    except (ValueError, SyntaxError):\n",
    "        return False"
   ]
  }
 ],
 "metadata": {
  "kernelspec": {
   "display_name": "ada",
   "language": "python",
   "name": "python3"
  },
  "language_info": {
   "codemirror_mode": {
    "name": "ipython",
    "version": 3
   },
   "file_extension": ".py",
   "mimetype": "text/x-python",
   "name": "python",
   "nbconvert_exporter": "python",
   "pygments_lexer": "ipython3",
   "version": "3.11.9"
  }
 },
 "nbformat": 4,
 "nbformat_minor": 2
}
